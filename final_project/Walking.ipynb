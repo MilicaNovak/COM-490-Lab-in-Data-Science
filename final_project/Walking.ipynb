{
 "cells": [
  {
   "cell_type": "markdown",
   "metadata": {},
   "source": [
    "# Walking Estimation"
   ]
  },
  {
   "cell_type": "code",
   "execution_count": 1,
   "metadata": {},
   "outputs": [
    {
     "data": {
      "text/html": [
       "\n",
       "            <div>\n",
       "                <p><b>SparkSession - in-memory</b></p>\n",
       "                \n",
       "        <div>\n",
       "            <p><b>SparkContext</b></p>\n",
       "\n",
       "            <p><a href=\"http://iccluster042.iccluster.epfl.ch:4048\">Spark UI</a></p>\n",
       "\n",
       "            <dl>\n",
       "              <dt>Version</dt>\n",
       "                <dd><code>v2.3.2.3.1.0.0-78</code></dd>\n",
       "              <dt>Master</dt>\n",
       "                <dd><code>yarn</code></dd>\n",
       "              <dt>AppName</dt>\n",
       "                <dd><code>sbb-rychener</code></dd>\n",
       "            </dl>\n",
       "        </div>\n",
       "        \n",
       "            </div>\n",
       "        "
      ],
      "text/plain": [
       "<pyspark.sql.session.SparkSession at 0x7fc754568a20>"
      ]
     },
     "execution_count": 1,
     "metadata": {},
     "output_type": "execute_result"
    }
   ],
   "source": [
    "import getpass\n",
    "import pyspark\n",
    "from pyspark.sql import SparkSession\n",
    "\n",
    "spark = SparkSession \\\n",
    "    .builder \\\n",
    "    .master(\"yarn\") \\\n",
    "    .appName('sbb-{0}'.format(getpass.getuser())) \\\n",
    "    .config('spark.executor.memory', '8g') \\\n",
    "    .config('spark.executor.instances', '5') \\\n",
    "    .config('spark.port.maxRetries', '100') \\\n",
    "    .getOrCreate()\n",
    "spark"
   ]
  },
  {
   "cell_type": "code",
   "execution_count": 2,
   "metadata": {},
   "outputs": [],
   "source": [
    "import numpy as np\n",
    "import pandas as pd"
   ]
  },
  {
   "cell_type": "markdown",
   "metadata": {},
   "source": [
    "## Step 1: Get all stations\n",
    "First, we need to retain all the stations of interest (10km radius aruound Zürich)"
   ]
  },
  {
   "cell_type": "code",
   "execution_count": 3,
   "metadata": {},
   "outputs": [],
   "source": [
    "def distance_squared(n1,e1, n2, e2):\n",
    "    '''Calculates the euclidean distance between two points'''\n",
    "    eucl_dist2 = ((n1-n2)*(n1-n2)+ (e1-e2)*(e1-e2))\n",
    "    return eucl_dist2"
   ]
  },
  {
   "cell_type": "code",
   "execution_count": 4,
   "metadata": {},
   "outputs": [],
   "source": [
    "coords_zurich = (683144.0, 248040.0) # X, Y  (E,N)\n",
    "didok_path = '/user/rychener/stops.txt'"
   ]
  },
  {
   "cell_type": "code",
   "execution_count": 5,
   "metadata": {},
   "outputs": [],
   "source": [
    "didok = spark.read.csv(didok_path, sep=';', header=True, inferSchema=True).select('Dst-Bezeichnung-offiziell','KOORDE','KOORDN')\\\n",
    "    .withColumnRenamed('Dst-Bezeichnung-offiziell','station_name')"
   ]
  },
  {
   "cell_type": "code",
   "execution_count": 6,
   "metadata": {},
   "outputs": [],
   "source": [
    "didok = didok.withColumn('dist2', distance_squared(coords_zurich[1], coords_zurich[0], didok.KOORDN, didok.KOORDE))"
   ]
  },
  {
   "cell_type": "code",
   "execution_count": 7,
   "metadata": {},
   "outputs": [],
   "source": [
    "didok_10km = didok.filter(didok.dist2<=10000**2).persist()"
   ]
  },
  {
   "cell_type": "code",
   "execution_count": 8,
   "metadata": {},
   "outputs": [],
   "source": [
    "stations = spark.read.csv('/datasets/sbb/2017/10/2017-10-17istdaten.csv.bz2', header=True, sep=\";\")\\\n",
    "                        .select('HALTESTELLEN_NAME').distinct()\n",
    "didok_10km = didok_10km.join(stations, stations.HALTESTELLEN_NAME==didok_10km.station_name)"
   ]
  },
  {
   "cell_type": "code",
   "execution_count": 9,
   "metadata": {},
   "outputs": [
    {
     "data": {
      "text/plain": [
       "839"
      ]
     },
     "execution_count": 9,
     "metadata": {},
     "output_type": "execute_result"
    }
   ],
   "source": [
    "didok_10km.count()"
   ]
  },
  {
   "cell_type": "code",
   "execution_count": 10,
   "metadata": {},
   "outputs": [
    {
     "name": "stdout",
     "output_type": "stream",
     "text": [
      "+--------------------+---------+---------+--------------------+--------------------+\n",
      "|        station_name|   KOORDE|   KOORDN|               dist2|   HALTESTELLEN_NAME|\n",
      "+--------------------+---------+---------+--------------------+--------------------+\n",
      "|Erlenbach ZH, Im ...|687568.16|240079.18|  8.29478467780004E7|Erlenbach ZH, Im ...|\n",
      "|    Zürich, Klosbach| 685009.1|247186.18|   4207606.602399925|    Zürich, Klosbach|\n",
      "| Zürich, Schauenberg|680618.06|252258.14|2.4173077943199836E7| Zürich, Schauenberg|\n",
      "|     Zürich, Althoos|681919.07|251665.15|1.4642166027400084E7|     Zürich, Althoos|\n",
      "|Zürich, Schmiede ...|681619.11|247152.16|  3113549.3777000364|Zürich, Schmiede ...|\n",
      "|Rüschlikon, Weids...|684264.15|240023.14| 6.552478028209983E7|Rüschlikon, Weids...|\n",
      "|  Urdorf, Oberurdorf|674363.05|248012.14| 7.710585908209918E7|  Urdorf, Oberurdorf|\n",
      "|Zürich, Stockerst...|682812.11|246896.16|  1418520.9177000013|Zürich, Stockerst...|\n",
      "|Zürich, Tunnelstr...|682627.11|246720.16|  2009152.8977000052|Zürich, Tunnelstr...|\n",
      "| Zürich, Oerlikerhus|684183.07|252462.16|2.0635165530499924E7| Zürich, Oerlikerhus|\n",
      "|Zürich Flughafen,...|685474.03|256362.17| 7.468755330980034E7|Zürich Flughafen,...|\n",
      "|  Kloten, Kirchgasse|686400.03|256422.18| 8.086267291330007E7|  Kloten, Kirchgasse|\n",
      "|      Uitikon, Halde| 677048.1|246991.16| 3.826006215560028E7|      Uitikon, Halde|\n",
      "|  Zürich, EPI-Klinik|685535.12|244816.19|1.6110405770499963E7|  Zürich, EPI-Klinik|\n",
      "|Zürich, Saalsport...|681724.11|245787.15|   7091420.734600066|Zürich, Saalsport...|\n",
      "|Kilchberg ZH, Bah...|683867.14|242094.16|3.5875944765199974E7|Kilchberg ZH, Bah...|\n",
      "|Adliswil, Hofacke...|682951.14|241053.17| 4.885298842849982E7|Adliswil, Hofacke...|\n",
      "|Unterengstringen,...|676566.04| 251764.1| 5.713847857159956E7|Unterengstringen,...|\n",
      "|  Zürich, Fischerweg|681044.08|249748.14|   7327406.266000224|  Zürich, Fischerweg|\n",
      "|             Zumikon|689579.43|242990.29| 6.691433036900058E7|             Zumikon|\n",
      "+--------------------+---------+---------+--------------------+--------------------+\n",
      "only showing top 20 rows\n",
      "\n"
     ]
    }
   ],
   "source": [
    "didok_10km.show()"
   ]
  },
  {
   "cell_type": "markdown",
   "metadata": {},
   "source": [
    "## Step 2: Calculate the distances between stations\n",
    "Now, we calculate the distance between each station.\n",
    "This is done by joining them, then calculating the distances."
   ]
  },
  {
   "cell_type": "code",
   "execution_count": 11,
   "metadata": {},
   "outputs": [],
   "source": [
    "columns = ['station_name', 'KOORDE', 'KOORDN']\n",
    "df1 = didok_10km.select('station_name', 'KOORDE', 'KOORDN')\n",
    "df2 = didok_10km.select('station_name', 'KOORDE', 'KOORDN')\n",
    "for c in columns:\n",
    "    df1 = df1.withColumnRenamed(c, c+'_1')\n",
    "    df2 = df2.withColumnRenamed(c, c+'_2')"
   ]
  },
  {
   "cell_type": "code",
   "execution_count": 12,
   "metadata": {},
   "outputs": [
    {
     "name": "stdout",
     "output_type": "stream",
     "text": [
      "+--------------------+---------+---------+\n",
      "|      station_name_1| KOORDE_1| KOORDN_1|\n",
      "+--------------------+---------+---------+\n",
      "|Erlenbach ZH, Im ...|687568.16|240079.18|\n",
      "|    Zürich, Klosbach| 685009.1|247186.18|\n",
      "+--------------------+---------+---------+\n",
      "only showing top 2 rows\n",
      "\n",
      "+--------------------+---------+---------+\n",
      "|      station_name_2| KOORDE_2| KOORDN_2|\n",
      "+--------------------+---------+---------+\n",
      "|Erlenbach ZH, Im ...|687568.16|240079.18|\n",
      "|    Zürich, Klosbach| 685009.1|247186.18|\n",
      "+--------------------+---------+---------+\n",
      "only showing top 2 rows\n",
      "\n"
     ]
    }
   ],
   "source": [
    "df1.show(2)\n",
    "df2.show(2)"
   ]
  },
  {
   "cell_type": "code",
   "execution_count": 13,
   "metadata": {},
   "outputs": [],
   "source": [
    "full_df = df1.crossJoin(df2)"
   ]
  },
  {
   "cell_type": "code",
   "execution_count": 14,
   "metadata": {},
   "outputs": [],
   "source": [
    "distance_df = full_df.withColumn('distance', distance_squared(full_df.KOORDN_1, full_df.KOORDE_1, \\\n",
    "                                                              full_df.KOORDN_2, full_df.KOORDE_2))"
   ]
  },
  {
   "cell_type": "code",
   "execution_count": 15,
   "metadata": {
    "scrolled": false
   },
   "outputs": [
    {
     "name": "stdout",
     "output_type": "stream",
     "text": [
      "+--------------------+---------+---------+--------------------+---------+---------+--------------------+\n",
      "|      station_name_1| KOORDE_1| KOORDN_1|      station_name_2| KOORDE_2| KOORDN_2|            distance|\n",
      "+--------------------+---------+---------+--------------------+---------+---------+--------------------+\n",
      "|Zürich, Stockerst...|682812.11|246896.16|Zürich, Stockerst...|682812.11|246896.16|                 0.0|\n",
      "|Zürich, Stockerst...|682812.11|246896.16|Zürich, Tunnelstr...|682627.11|246720.16|             65201.0|\n",
      "|Zürich, Stockerst...|682812.11|246896.16|Zürich, Schmiede ...|681619.11|247152.16|           1488785.0|\n",
      "|Zürich, Stockerst...|682812.11|246896.16| Zürich, Oerlikerhus|684183.07|252462.16|3.2859887321599897E7|\n",
      "|Zürich, Stockerst...|682812.11|246896.16|Zürich Flughafen,...|685474.03|256362.17|  9.66911634065004E7|\n",
      "+--------------------+---------+---------+--------------------+---------+---------+--------------------+\n",
      "only showing top 5 rows\n",
      "\n"
     ]
    }
   ],
   "source": [
    "distance_df.show(5)"
   ]
  },
  {
   "cell_type": "markdown",
   "metadata": {},
   "source": [
    "## Step 3: Build a numpy adjacency matrix for walking times\n",
    "We assume $3.6km/h = 1m/s$ to be a reasonable walking speed."
   ]
  },
  {
   "cell_type": "code",
   "execution_count": 16,
   "metadata": {},
   "outputs": [],
   "source": [
    "stations = [r[0] for r in didok_10km.select('station_name').collect()]"
   ]
  },
  {
   "cell_type": "code",
   "execution_count": 17,
   "metadata": {},
   "outputs": [],
   "source": [
    "station_from_index = dict(zip(range(len(stations)), stations))\n",
    "index_from_station = dict(zip(stations,range(len(stations))))"
   ]
  },
  {
   "cell_type": "code",
   "execution_count": 18,
   "metadata": {},
   "outputs": [],
   "source": [
    "df_pd = distance_df.toPandas()"
   ]
  },
  {
   "cell_type": "code",
   "execution_count": 19,
   "metadata": {},
   "outputs": [],
   "source": [
    "adj = np.full((len(stations),len(stations)), -1)"
   ]
  },
  {
   "cell_type": "code",
   "execution_count": 20,
   "metadata": {},
   "outputs": [],
   "source": [
    "for i, row in df_pd.iterrows():\n",
    "    _i = index_from_station[row['station_name_1']]\n",
    "    _j = index_from_station[row['station_name_2']]\n",
    "    adj[_i,_j] = float(row['distance'])\n",
    "    adj[_j,_i] = float(row['distance'])"
   ]
  },
  {
   "cell_type": "code",
   "execution_count": 21,
   "metadata": {},
   "outputs": [
    {
     "data": {
      "text/plain": [
       "array([[        0,  57058237, 196630956, ...,  14634156, 100843493,\n",
       "         23327944],\n",
       "       [ 57058237,         0,  45006010, ...,  49241843,  15389723,\n",
       "         44623201],\n",
       "       [196630956,  45006010,         0, ..., 153197786,  53483096,\n",
       "        134241520],\n",
       "       ...,\n",
       "       [ 14634156,  49241843, 153197786, ...,         0, 111716747,\n",
       "          1245681],\n",
       "       [100843493,  15389723,  53483096, ..., 111716747,         0,\n",
       "        108502849],\n",
       "       [ 23327944,  44623201, 134241520, ...,   1245681, 108502849,\n",
       "                0]])"
      ]
     },
     "execution_count": 21,
     "metadata": {},
     "output_type": "execute_result"
    }
   ],
   "source": [
    "adj"
   ]
  },
  {
   "cell_type": "markdown",
   "metadata": {},
   "source": [
    "## Step 4: Saving the precomputed distances"
   ]
  },
  {
   "cell_type": "code",
   "execution_count": 22,
   "metadata": {},
   "outputs": [],
   "source": [
    "# saving the numpy array of distances\n",
    "np.save('./data/walking_distances', adj)"
   ]
  },
  {
   "cell_type": "code",
   "execution_count": 23,
   "metadata": {},
   "outputs": [],
   "source": [
    "# saving the dictionaries:\n",
    "import pickle\n",
    "\n",
    "with open('./data/station_from_index.pkl', 'wb') as handle:\n",
    "    pickle.dump(station_from_index, handle, protocol=pickle.HIGHEST_PROTOCOL)\n",
    "    \n",
    "with open('./data/index_from_station.pkl', 'wb') as handle:\n",
    "    pickle.dump(index_from_station, handle, protocol=pickle.HIGHEST_PROTOCOL)"
   ]
  },
  {
   "cell_type": "markdown",
   "metadata": {},
   "source": [
    "## Step 5: Usage in the Algorithm"
   ]
  },
  {
   "cell_type": "code",
   "execution_count": 24,
   "metadata": {},
   "outputs": [],
   "source": [
    "# the necessary imports\n",
    "import numpy as np"
   ]
  },
  {
   "cell_type": "code",
   "execution_count": 25,
   "metadata": {},
   "outputs": [],
   "source": [
    "# first, load all the necessary data\n",
    "import pickle\n",
    "with open('./data/station_from_index.pkl', 'rb') as handle:\n",
    "    station_from_index = pickle.load(handle)\n",
    "with open('./data/index_from_station.pkl', 'rb') as handle:\n",
    "    index_from_station = pickle.load(handle)\n",
    "walking_distances = np.load('./data/walking_distances.npy')\n",
    "walking_distances = np.sqrt(walking_distances)\n",
    "\n",
    "# definition of the maximum walking time\n",
    "MAX_WALKING_TIME = 15*60"
   ]
  },
  {
   "cell_type": "code",
   "execution_count": 26,
   "metadata": {},
   "outputs": [],
   "source": [
    "def get_walking_stations(current_station, current_time):\n",
    "    # get the distances for all stations\n",
    "    walking_times = walking_distances[index_from_station[current_station],:]\n",
    "    # get stations in walking distance\n",
    "    close_stations = np.argwhere(walking_times<MAX_WALKING_TIME)\n",
    "    # remove station itself\n",
    "    close_stations = [i for i in close_stations.flatten().tolist()  \\\n",
    "                     if i!=index_from_station[current_station]]\n",
    "    # get the names of the stations\n",
    "    station_names = [station_from_index[i] for i in close_stations]\n",
    "    # get the estimated arrival times for all stations\n",
    "    arrival_times = (walking_times[close_stations].flatten() + current_time).tolist()\n",
    "    # get the other information necessary\n",
    "    line_type = [None]*len(station_names)\n",
    "    departure_time = [current_time]*len(station_names)\n",
    "    \n",
    "    \n",
    "    # return the tuples we want\n",
    "    walking_stops_tuples = list(zip(line_type, departure_time, \\\n",
    "                                    station_names, arrival_times))\n",
    "    return walking_stops_tuples"
   ]
  },
  {
   "cell_type": "code",
   "execution_count": 27,
   "metadata": {},
   "outputs": [
    {
     "name": "stdout",
     "output_type": "stream",
     "text": [
      "39.1 µs ± 4.08 µs per loop (mean ± std. dev. of 7 runs, 10000 loops each)\n"
     ]
    }
   ],
   "source": [
    "%%timeit\n",
    "r = get_walking_stations('Zürich HB', 0)"
   ]
  },
  {
   "cell_type": "code",
   "execution_count": 28,
   "metadata": {},
   "outputs": [
    {
     "data": {
      "text/plain": [
       "[(None, 0, 'Zürich, Rathaus', 743.4097120699998),\n",
       " (None, 0, 'Zürich, Sihlquai/HB', 272.1157841801905),\n",
       " (None, 0, 'Zürich, Sihlstrasse', 781.4473750675729),\n",
       " (None, 0, 'Zürich, ETH/Universitätsspital', 677.36769925942),\n",
       " (None, 0, 'Zürich, Bahnhofquai/HB', 135.40679451194464),\n",
       " (None, 0, 'Zürich, Beckenhof', 657.8571273460523),\n",
       " (None, 0, 'Zürich, Ottikerstrasse', 798.3908817114584),\n",
       " (None, 0, 'Zürich, Winkelriedstrasse', 823.99939320366),\n",
       " (None, 0, 'Zürich, Bahnhofstrasse/HB', 179.9222054111165),\n",
       " (None, 0, 'Zürich, Löwenplatz', 328.6928657576857),\n",
       " (None, 0, 'Zürich, Sonneggstrasse', 582.5838995372254),\n",
       " (None, 0, 'Zürich, Kanonengasse', 747.2369102232572),\n",
       " (None, 0, 'Zürich, Stampfenbachplatz', 280.6830953228213),\n",
       " (None, 0, 'Zürich Selnau', 848.0678038930614),\n",
       " (None, 0, 'Zürich, Rudolf-Brun-Brücke', 482.8716185488644),\n",
       " (None, 0, 'Zürich, Haldenegg', 365.4216742340279),\n",
       " (None, 0, 'Zürich, Vogelsangstrasse', 898.0929795962109),\n",
       " (None, 0, 'Zürich, Haldenbach', 662.0287002842098),\n",
       " (None, 0, 'Zürich, Neumarkt', 807.6100544198296),\n",
       " (None, 0, 'Zürich, Museum für Gestaltung', 592.0177362207994),\n",
       " (None, 0, 'Zürich, Bahnhofplatz/HB', 121.72099243762351),\n",
       " (None, 0, 'Zürich, Rennweg', 582.3220758308928),\n",
       " (None, 0, 'Zürich HB SZU', 112.70758625753636),\n",
       " (None, 0, 'Zürich, Central', 319.0595555691758)]"
      ]
     },
     "execution_count": 28,
     "metadata": {},
     "output_type": "execute_result"
    }
   ],
   "source": [
    "get_walking_stations('Zürich HB', 0)"
   ]
  },
  {
   "cell_type": "code",
   "execution_count": null,
   "metadata": {},
   "outputs": [],
   "source": []
  }
 ],
 "metadata": {
  "kernelspec": {
   "display_name": "Python 3",
   "language": "python",
   "name": "python3"
  },
  "language_info": {
   "codemirror_mode": {
    "name": "ipython",
    "version": 3
   },
   "file_extension": ".py",
   "mimetype": "text/x-python",
   "name": "python",
   "nbconvert_exporter": "python",
   "pygments_lexer": "ipython3",
   "version": "3.6.7"
  }
 },
 "nbformat": 4,
 "nbformat_minor": 2
}
