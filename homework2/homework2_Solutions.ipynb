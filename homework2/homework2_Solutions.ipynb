{
 "cells": [
  {
   "cell_type": "markdown",
   "metadata": {},
   "source": [
    "# Assignment 2\n",
    "\n",
    "The goal of this assignment is to put into action the data manipulation techniques from the previous lab ([week 5](https://dslab2019.github.io/labs/week5/)).\n",
    "\n",
    "## Cluster Usage\n",
    "\n",
    "As there are many of you working with the cluster, we encourage you to prototype your queries on small data samples before running them on whole datasets.\n",
    "\n",
    "## Documentation\n",
    "\n",
    "Hive queries: <https://cwiki.apache.org/confluence/display/Hive/LanguageManual+Select>\n",
    "Hive functions: <https://cwiki.apache.org/confluence/display/Hive/LanguageManual+UDF>\n",
    "\n",
    "## Displaying results in Zeppelin\n",
    "\n",
    "As part of this homework, many questions ask to retrieve and display data. You should do so by using Zeppelin functionality to display tables and plots. It is part of the exercises to find out which representations are the most releveant.\n",
    "\n",
    "## Part I - Data from SBB/CFF/FFS (35 points)\n",
    "\n",
    "Data source: <https://opentransportdata.swiss/en/dataset/istdaten>\n",
    "\n",
    "In this part, you will leverage Hive to perform exploratory analysis of data published by the Open Data Platform Swiss Public Transport. (<https://opentransportdata.swiss>).\n",
    "\n",
    "### Dataset Description\n",
    "\n",
    "Format: the dataset is presented a collection of textfiles with fields separated by ';' (semi-colon). There is one file per day, ranging from 13.09.2017 until 31.01.2019. We will only use a subset of that and focus on the 2017 data. The textfiles have been compressed using bzip.\n",
    "\n",
    "Location: you can find the data on HDFS at the path `/datasets/sbb`.\n",
    "\n",
    "Unfortunately, the full description from opentransportdata.swiss is only provided in German (<https://opentransportdata.swiss/de/cookbook/ist-daten/>). You can use an automated translator to get more information, but here are the relevant column descriptions:\n",
    "\n",
    "- `BETRIEBSTAG`: date of the trip\n",
    "- `FAHRT_BEZEICHNER`: identifies the trip\n",
    "- `BETREIBER_ABK`, `BETREIBER_NAME`: operator (name will contain the full name, e.g. Schweizerische Bundesbahnen for SBB)\n",
    "- `PRODUCT_ID`: type of transport, e.g. train, bus\n",
    "- `LINIEN_ID`: for trains, this is the train number\n",
    "- `LINIEN_TEXT`,`VERKEHRSMITTEL_TEXT`: for trains, the service type (IC, IR, RE, etc.)\n",
    "- `ZUSATZFAHRT_TF`: boolean, true if this is an additional trip (not part of the regular schedule)\n",
    "- `FAELLT_AUS_TF`: boolean, true if this trip failed (cancelled or not completed)\n",
    "- `HALTESTELLEN_NAME`: name of the stop\n",
    "- `ANKUNFTSZEIT`: arrival time at the stop according to schedule\n",
    "- `AN_PROGNOSE`: actual arrival time (when `AN_PROGNOSE_STATUS` is `GESCHAETZT`)\n",
    "- `AN_PROGNOSE_STATUS`: look only at lines when this is `GESCHAETZT`. This indicates that `AN_PROGNOSE` is the measured time of arrival.\n",
    "- `ABFAHRTSZEIT`: departure time at the stop according to schedule\n",
    "- `AB_PROGNOSE`: actual departure time (when `AB_PROGNOSE_STATUS` is `GESCHAETZT`)\n",
    "- `AB_PROGNOSE_STATUS`: look only at lines when this is `GESCHAETZT`. This indicates that `AB_PROGNOSE` is the measured time of arrival.\n",
    "- `DURCHFAHRT_TF`: boolean, true if the transport does not stop there\n",
    "\n",
    "Each line of the file represents a stop and contains arrival and departure times. When the stop is the start or end of a journey, the corresponding columns will be empty (`ANKUNFTSZEIT`/`ABFAHRTSZEIT`).\n",
    "In some cases, the actual times were not measured so the `AN_PROGNOSE_STATUS`/`AB_PROGNOSE_STATUS` will be empty or set to `PROGNOSE` and `AN_PROGNOSE`/`AB_PROGNOSE` will be empty.\n",
    "\n",
    "In the repository you will also find the file `sbb_example.png` that shows how you can relate this dataset to the schedule you get from SBB's website."
   ]
  },
  {
   "cell_type": "markdown",
   "metadata": {},
   "source": [
    "### Question I.a. (5/35)\n",
    "\n",
    "First, create an external table named `<your_gaspar_name>.sbb` for this dataset.\n",
    "Then create  table `<your_gaspar_name>.sbb_17_10_2017` which contains data only for the day of 17.10.2017."
   ]
  },
  {
   "cell_type": "code",
   "execution_count": 2,
   "metadata": {
    "autoscroll": "auto"
   },
   "outputs": [],
   "source": [
    "%jdbc(hive)\n",
    "create database if not exists opeter\n",
    "  location '/homes/opeter/hive';\n",
    "\n",
    "drop table if exists opeter.sbb;\n",
    "\n",
    "create table if not exists opeter.sbb(BETRIEBSTAG string, FAHRT_BEZEICHNER string, BETREIBER_ID string, BETREIBER_ABK string, BETREIBER_NAME string, PRODUCT_ID string, LINIEN_ID int, LINIEN_TEXT string, UMLAUF_ID string, VERKEHRSMITTEL_TEXT string, ZUSATZFAHRT_TF boolean, FAELLT_AUS_TF boolean, BPUIC int, HALTESTELLEN_NAME string, ANKUNFTSZEIT string, AN_PROGNOSE string, AN_PROGNOSE_STATUS string, ABFAHRTSZEIT string, AB_PROGNOSE string, AB_PROGNOSE_STATUS string, DURCHFAHRT_TF boolean)\n",
    "    row format delimited fields terminated by ';'\n",
    "    stored as textfile\n",
    "    location '/datasets/sbb'\n",
    "    tblproperties(\"skip.header.line.count\"=\"1\");\n",
    "    \n",
    "select * from opeter.sbb limit 10;"
   ]
  },
  {
   "cell_type": "code",
   "execution_count": 3,
   "metadata": {
    "autoscroll": "auto"
   },
   "outputs": [],
   "source": [
    "%jdbc(hive)\n",
    "drop table if exists opeter.sbb_17_10_2017;\n",
    "\n",
    "create table if not exists opeter.sbb_17_10_2017\n",
    "as\n",
    "select * from opeter.sbb where BETRIEBSTAG='17.10.2017';\n",
    "\n",
    "select * from opeter.sbb_17_10_2017 limit 10;"
   ]
  },
  {
   "cell_type": "markdown",
   "metadata": {},
   "source": [
    "### Question I.b. (5/35)\n",
    "\n",
    "i) How many stops can you find for the date 17.10.2017? Display the information by transport type (bus, train, etc.).\n",
    "Note: you can keep the German labels like 'Zug' for train.\n",
    "\n",
    "ii) Now do the same for the whole dataset. Show and document any pattern you see.\n",
    "Hint: to properly order by date, you may have to parse them using the `unix_timestamp` function."
   ]
  },
  {
   "cell_type": "markdown",
   "metadata": {},
   "source": [
    "NOTE:\n",
    "For data on the whole dataset in b&c, we only use data from 2017, as the whole dataset cannot be displayed due to output limitations."
   ]
  },
  {
   "cell_type": "code",
   "execution_count": 6,
   "metadata": {
    "autoscroll": "auto"
   },
   "outputs": [],
   "source": [
    "%jdbc(hive)\n",
    "select lower(min(PRODUCT_ID)) as name, count(*) as nb_trips from opeter.sbb_17_10_2017 \n",
    "    where not ANKUNFTSZEIT = \"\"\n",
    "    group by lower(PRODUCT_ID)\n",
    "    order by nb_trips\n",
    "    limit 10;"
   ]
  },
  {
   "cell_type": "code",
   "execution_count": 7,
   "metadata": {
    "autoscroll": "auto"
   },
   "outputs": [],
   "source": [
    "%jdbc(hive)\n",
    "with stops_2017 as (\n",
    "    select lower(min(PRODUCT_ID)) as PRODUCT_ID, from_unixtime(unix_timestamp(BETRIEBSTAG, \"dd.MM.yyyy\")) as BETRIEBSTAG, count(*) as nb_stops from opeter.sbb\n",
    "        where from_unixtime(unix_timestamp(BETRIEBSTAG, \"dd.MM.yyyy\"), 'Y') = 2017 and not PRODUCT_ID = \"\" and not ANKUNFTSZEIT = \"\"\n",
    "        group by PRODUCT_ID, BETRIEBSTAG\n",
    ")\n",
    "select sum(nb_stops) as nb_stops, PRODUCT_ID as name, BETRIEBSTAG\n",
    "    from stops_2017\n",
    "    group by PRODUCT_ID, BETRIEBSTAG\n",
    "    order by BETRIEBSTAG;"
   ]
  },
  {
   "cell_type": "markdown",
   "metadata": {},
   "source": [
    "October 17th does not seem to be an outlier, the percentages of the different means of transport are almost the same. Also, we can observe a pattern of less stops on weekends and holidays, whith the contrary being true for boat stops. Also, we can see that in summer, more boat stops occur"
   ]
  },
  {
   "cell_type": "markdown",
   "metadata": {},
   "source": [
    "### Question I.c. (5/35)\n",
    "\n",
    "i) How many trips can you find for the date 17.10.2017? Display the information by transport type (bus, train, etc.). \n",
    "Note: trip=full journey.\n",
    "\n",
    "ii) Now do the same for the whole data of 2017. Is 17.10.2017 a typical day?"
   ]
  },
  {
   "cell_type": "code",
   "execution_count": 10,
   "metadata": {
    "autoscroll": "auto"
   },
   "outputs": [],
   "source": [
    "%jdbc(hive)\n",
    "drop table if exists opeter.sbb_trips_17_10_2017;\n",
    "\n",
    "--break ties with min (this will not occur)\n",
    "create table if not exists opeter.sbb_trips_17_10_2017\n",
    "as\n",
    "select min(PRODUCT_ID) as PRODUCT_ID, FAHRT_BEZEICHNER from opeter.sbb_17_10_2017\n",
    "    group by FAHRT_BEZEICHNER;\n",
    "\n",
    "select count(FAHRT_BEZEICHNER) as nb_trips, lower(min(PRODUCT_ID)) as name\n",
    "    from opeter.sbb_trips_17_10_2017\n",
    "    group by lower(PRODUCT_ID)\n",
    "    order by nb_trips\n",
    "    limit 10;"
   ]
  },
  {
   "cell_type": "code",
   "execution_count": 11,
   "metadata": {
    "autoscroll": "auto"
   },
   "outputs": [],
   "source": [
    "%jdbc(hive)\n",
    "with trips_2017 as (\n",
    "    select min(PRODUCT_ID) as PRODUCT_ID, FAHRT_BEZEICHNER, from_unixtime(unix_timestamp(BETRIEBSTAG, \"dd.MM.yyyy\")) as BETRIEBSTAG from opeter.sbb\n",
    "        where from_unixtime(unix_timestamp(BETRIEBSTAG, \"dd.MM.yyyy\"), 'Y') = 2017 and not PRODUCT_ID = \"\"\n",
    "        group by FAHRT_BEZEICHNER, BETRIEBSTAG\n",
    ")\n",
    "select count(FAHRT_BEZEICHNER) as nb_trips, lower(min(PRODUCT_ID)) as name, BETRIEBSTAG\n",
    "    from trips_2017\n",
    "    group by lower(PRODUCT_ID), BETRIEBSTAG\n",
    "    order by BETRIEBSTAG;"
   ]
  },
  {
   "cell_type": "markdown",
   "metadata": {},
   "source": [
    "The following observations can be made:\n",
    "- October 17th is not an outlier.\n",
    "- During the weekend, less trips occur for all types, except boat trips increase (This effect is also present on holidays (Christmas))\n",
    "- In summer, more boat trips occur than in winter.\n",
    "\n",
    "This is in accordance to the previous question, since we can safely assume that the number of stops is highly correlated with the number of trips."
   ]
  },
  {
   "cell_type": "markdown",
   "metadata": {},
   "source": [
    "### Question I.d. (5/35)\n",
    "\n",
    "How many trains per day stop at the Lausanne train station? Display the information by date and train type. Find the 3 most represented train types.\n",
    "Note: Use `VERKEHRSMITTEL_TEXT` to get the train type.\n",
    "\n",
    "Bonus points (2.5 points): find out what happened on the two outlier days"
   ]
  },
  {
   "cell_type": "code",
   "execution_count": 14,
   "metadata": {
    "autoscroll": "auto"
   },
   "outputs": [],
   "source": [
    "%jdbc(hive)\n",
    "with trips_lausanne as(\n",
    "    select VERKEHRSMITTEL_TEXT, FAHRT_BEZEICHNER, from_unixtime(unix_timestamp(BETRIEBSTAG, \"dd.MM.yyyy\")) as BETRIEBSTAG from opeter.sbb\n",
    "    where HALTESTELLEN_NAME like \"%Lausanne%\" and lower(PRODUCT_ID) = \"zug\" and from_unixtime(unix_timestamp(BETRIEBSTAG, \"dd.MM.yyyy\"), 'Y') = 2017\n",
    "    group by FAHRT_BEZEICHNER, BETRIEBSTAG, VERKEHRSMITTEL_TEXT\n",
    ")\n",
    "\n",
    "select VERKEHRSMITTEL_TEXT, BETRIEBSTAG, count(*) as n_stops from trips_lausanne\n",
    "    group by BETRIEBSTAG, VERKEHRSMITTEL_TEXT\n",
    "    order by BETRIEBSTAG;"
   ]
  },
  {
   "cell_type": "code",
   "execution_count": 15,
   "metadata": {
    "autoscroll": "auto"
   },
   "outputs": [],
   "source": [
    "%jdbc(hive)\n",
    "select count(*) as nb, ZUSATZFAHRT_TF from opeter.sbb\n",
    "    where VERKEHRSMITTEL_TEXT = \"RE\" and BETRIEBSTAG = \"28.10.2017\" and HALTESTELLEN_NAME like \"%Lausanne%\"\n",
    "    group by ZUSATZFAHRT_TF;\n"
   ]
  },
  {
   "cell_type": "markdown",
   "metadata": {},
   "source": [
    "On the 28. and 29. October 2019 there were additional trains due to construction works between Geneva and Lausanne [Source](https://company.sbb.ch/content/dam/sbb/fr/pdf/fr_sbb-konzern/fr_bunde-und-kantone/fr_regionalverkehr/fr_westschweiz/485ren_Broschuere_bf.pdf)\n",
    "The pie chart above displays the proportion of additional trains (true=additional train)"
   ]
  },
  {
   "cell_type": "markdown",
   "metadata": {},
   "source": [
    "### Question I.e. (10/35)\n",
    "\n",
    "Get the set of IC trains you can take to go (without connections) from Genève (main station) to Lausanne gare on a typical week day (not Saturday, not Sunday, not a bank holiday). Display the train number (`LINIEN_ID`) as well as the schedule of the trains.\n",
    "Note: do not hesitate to create intermediary tables.\n",
    "You can use the advanced search of SBB's website to check your answer, the schedule of IC1 from Genève to Lausanne has not changed."
   ]
  },
  {
   "cell_type": "code",
   "execution_count": 18,
   "metadata": {
    "autoscroll": "auto"
   },
   "outputs": [],
   "source": [
    "%jdbc(hive)\n",
    "--Get all train that stop in Geneva and Lausanne\n",
    "drop table if exists opeter.geneva2lausanne;\n",
    "\n",
    "create table if not exists opeter.geneva2lausanne\n",
    "as\n",
    "with genevaic as(\n",
    "    select FAHRT_BEZEICHNER from opeter.sbb_17_10_2017\n",
    "    where HALTESTELLEN_NAME=\"Genève\" and linien_text = \"IC\" and DURCHFAHRT_TF = false\n",
    "    group by FAHRT_BEZEICHNER\n",
    ")\n",
    "select FAHRT_BEZEICHNER from opeter.sbb_17_10_2017 as a left semi join genevaic on (a.FAHRT_BEZEICHNER = genevaic.FAHRT_BEZEICHNER)\n",
    "    where HALTESTELLEN_NAME=\"Lausanne\" and DURCHFAHRT_TF = false; \n",
    "\n",
    "\n"
   ]
  },
  {
   "cell_type": "markdown",
   "metadata": {},
   "source": [
    "##### note\n",
    "We take the data from the 17th of octobre as it is a week day, and not during any holiday, and assume that other typical days have a similar schedule"
   ]
  },
  {
   "cell_type": "code",
   "execution_count": 20,
   "metadata": {
    "autoscroll": "auto"
   },
   "outputs": [],
   "source": [
    "%jdbc(hive)\n",
    "--get departure time of train in geneva\n",
    "drop table if exists opeter.departgeneve;\n",
    "\n",
    "create table if not exists opeter.departgeneve \n",
    "as\n",
    "with g2l as( select * from opeter.geneva2lausanne )\n",
    "select linien_id,ABFAHRTSZEIT \n",
    "    from opeter.sbb_17_10_2017 as a left semi join g2l on (a.FAHRT_BEZEICHNER = g2l.FAHRT_BEZEICHNER)\n",
    "    where HALTESTELLEN_NAME=\"Genève\";\n"
   ]
  },
  {
   "cell_type": "code",
   "execution_count": 21,
   "metadata": {
    "autoscroll": "auto"
   },
   "outputs": [],
   "source": [
    "%jdbc(hive)\n",
    "--Get arrival time of train in Lausanne\n",
    "drop table if exists opeter.arrivelausanne;\n",
    "\n",
    "create table if not exists opeter.arrivelausanne \n",
    "as\n",
    "with g2l as( select * from opeter.geneva2lausanne )\n",
    "select linien_id,ANKUNFTSZEIT \n",
    "    from opeter.sbb_17_10_2017 as a left semi join g2l on (a.FAHRT_BEZEICHNER = g2l.FAHRT_BEZEICHNER)\n",
    "    where HALTESTELLEN_NAME=\"Lausanne\";\n"
   ]
  },
  {
   "cell_type": "code",
   "execution_count": 22,
   "metadata": {
    "autoscroll": "auto"
   },
   "outputs": [],
   "source": [
    "%jdbc(hive)\n",
    "-- Create a table with departure in Geneva and arrival in Lausanne of time of trains going from Geneva to Lausanne\n",
    "drop table if exists opeter.gen_lau_timetable;\n",
    "\n",
    "create table if not exists opeter.gen_lau_timetable \n",
    "as\n",
    "select depart_genenva.linien_id as id,  from_unixtime(unix_timestamp(depart_genenva.abfahrtszeit, \"dd.MM.yyyy HH:mm\"), 'HH:mm') as depart_geneva, from_unixtime(unix_timestamp(arrival_lausanne.ankunftszeit, \"dd.MM.yyyy HH:mm\"), 'HH:mm') as arrival_lausanne\n",
    "from opeter.departgeneve as depart_genenva join opeter.arrivelausanne as arrival_lausanne on (depart_genenva.linien_id = arrival_lausanne.linien_id)\n",
    "where (unix_timestamp(depart_genenva.abfahrtszeit, \"dd.MM.yyyy HH:mm\") - unix_timestamp(arrival_lausanne.ankunftszeit, \"dd.MM.yyyy HH:mm\")) < 0.0 ;\n"
   ]
  },
  {
   "cell_type": "code",
   "execution_count": 23,
   "metadata": {
    "autoscroll": "auto"
   },
   "outputs": [],
   "source": [
    "%jdbc(hive)\n",
    "select id as train_id, depart_geneva as leaves_gva_at, arrival_lausanne as arrives_in_lausanne_at from opeter.gen_lau_timetable\n",
    "order by depart_geneva;"
   ]
  },
  {
   "cell_type": "markdown",
   "metadata": {},
   "source": [
    "##### Discussion \n",
    "Checking the schedule of IC trains on the SBB website assures us that we did find the right values \n"
   ]
  },
  {
   "cell_type": "markdown",
   "metadata": {},
   "source": [
    "### Question I.f. (5/35)\n",
    "\n",
    "\n",
    "Let's focus on train IC 711 and see if it tends to be on time.\n",
    "\n",
    "i) Display the distribution of delays for the IC 711 train at the Lausanne train station. Display the information as a histogram with bins of size equal to one minute. How many trains have arrived more than 5 minutes late?\n",
    "Note: when the train is ahead of schedule, count this as a delay of 0.\n",
    "\n",
    "ii) Compute the 50th and 75th percentiles of delays for IC 702, 704, ..., 728, 730 (15 trains total) at Genève main station. Which trains are the most disrupted? Can you find the tendency and interpret?"
   ]
  },
  {
   "cell_type": "markdown",
   "metadata": {},
   "source": [
    "#### Question I.f.i\n"
   ]
  },
  {
   "cell_type": "code",
   "execution_count": 27,
   "metadata": {
    "autoscroll": "auto"
   },
   "outputs": [],
   "source": [
    "%jdbc(hive)\n",
    "--Get the delay of IC 711 train over time \n",
    "drop table if exists opeter.delaylausanne;\n",
    "\n",
    "create table if not exists opeter.delaylausanne \n",
    "as\n",
    "select (case when (unix_timestamp(AN_PROGNOSE, \"dd.MM.yyyy hh:mm:ss\") - unix_timestamp(ANKUNFTSZEIT, \"dd.MM.yyyy hh:mm\")) = null then 0 when (unix_timestamp(AN_PROGNOSE, \"dd.MM.yyyy hh:mm:ss\") - unix_timestamp(ANKUNFTSZEIT, \"dd.MM.yyyy hh:mm\")) > 0.0 then (unix_timestamp(AN_PROGNOSE, \"dd.MM.yyyy hh:mm:ss\") - unix_timestamp(ANKUNFTSZEIT, \"dd.MM.yyyy hh:mm\")) else 0 end ) as delay,FAHRT_BEZEICHNER\n",
    "from opeter.sbb\n",
    "where linien_id = \"711\" and linien_text = \"IC\" and HALTESTELLEN_NAME = \"Lausanne\" ;"
   ]
  },
  {
   "cell_type": "code",
   "execution_count": 28,
   "metadata": {
    "autoscroll": "auto"
   },
   "outputs": [],
   "source": [
    "%jdbc(hive)\n",
    "select round(delay/60,0) as delay, count(*) as occurence\n",
    "from opeter.delaylausanne\n",
    "group by delay\n",
    "order by delay;\n"
   ]
  },
  {
   "cell_type": "markdown",
   "metadata": {},
   "source": [
    "We see that there are 2 trains that arrived with more than 5 minutes delay. \n"
   ]
  },
  {
   "cell_type": "markdown",
   "metadata": {},
   "source": [
    "#### Question I.f.ii"
   ]
  },
  {
   "cell_type": "code",
   "execution_count": 31,
   "metadata": {
    "autoscroll": "auto"
   },
   "outputs": [],
   "source": [
    "%jdbc(hive)\n",
    "--Get the delay for IC train from 702 tp 730 at Geneva Main Station \n",
    "drop table if exists opeter.delaygeneve;\n",
    "\n",
    "create table if not exists opeter.delaygeneve \n",
    "as\n",
    "select (case when (unix_timestamp(AN_PROGNOSE, \"dd.MM.yyyy hh:mm:ss\") - unix_timestamp(ANKUNFTSZEIT, \"dd.MM.yyyy hh:mm\")) = null then 0 when (unix_timestamp(AN_PROGNOSE, \"dd.MM.yyyy hh:mm:ss\") - unix_timestamp(ANKUNFTSZEIT, \"dd.MM.yyyy hh:mm\")) > 0.0 then round((unix_timestamp(AN_PROGNOSE, \"dd.MM.yyyy hh:mm:ss\") - unix_timestamp(ANKUNFTSZEIT, \"dd.MM.yyyy hh:mm\"))/60,0) else 0 end ) as delay, linien_id\n",
    "from opeter.sbb\n",
    "where linien_text = \"IC\" and HALTESTELLEN_NAME = \"Genève\" and cast(linien_id as int) < 731;\n",
    "\n",
    "\n"
   ]
  },
  {
   "cell_type": "code",
   "execution_count": 32,
   "metadata": {
    "autoscroll": "auto"
   },
   "outputs": [],
   "source": [
    "%jdbc(hive)\n",
    "--Sanity Check : Are results consistant with part one ?\n",
    "select count(delay) as 711_0_delay\n",
    "from opeter.delaygeneve\n",
    "where linien_id = \"711\" and delay = 0\n"
   ]
  },
  {
   "cell_type": "markdown",
   "metadata": {},
   "source": [
    "##### Note\n",
    "A sanity check was performed on the delay geneva table. We see here that for train IC 711 their is 67 train with no delay which is consistent with what was found in part i."
   ]
  },
  {
   "cell_type": "code",
   "execution_count": 34,
   "metadata": {
    "autoscroll": "auto"
   },
   "outputs": [],
   "source": [
    "%jdbc(hive)\n",
    "--0,5 and 0.75 percentile for ic train 702 to 730\n",
    "select linien_id as train_id, percentile_approx(delay,0.5) as percentile_50, percentile_approx(delay,0.75) as percentile_75 \n",
    "from opeter.delaygeneve\n",
    "group by linien_id\n",
    "order by linien_id;\n"
   ]
  },
  {
   "cell_type": "code",
   "execution_count": 35,
   "metadata": {
    "autoscroll": "auto"
   },
   "outputs": [],
   "source": [
    "%jdbc(hive)\n",
    "--See from which station is IC 706 leaving (NB if their is no arrival time the train starts from that point)\n",
    "select HALTESTELLEN_NAME as IC_706_departure_city\n",
    "from opeter.sbb\n",
    "where LINIEN_ID = \"706\" and linien_text = \"IC\" and ANKUNFTSZEIT = \"\"\n",
    "group by HALTESTELLEN_NAME ;\n"
   ]
  },
  {
   "cell_type": "code",
   "execution_count": 36,
   "metadata": {
    "autoscroll": "auto"
   },
   "outputs": [],
   "source": [
    "%jdbc(hive)\n",
    "select HALTESTELLEN_NAME as IC_707_departure_city\n",
    "from opeter.sbb\n",
    "where LINIEN_ID = \"707\" and linien_text = \"IC\" and ANKUNFTSZEIT = \"\"\n",
    "group by HALTESTELLEN_NAME ;\n"
   ]
  },
  {
   "cell_type": "code",
   "execution_count": 37,
   "metadata": {
    "autoscroll": "auto"
   },
   "outputs": [],
   "source": [
    "%jdbc(hive)\n",
    "select HALTESTELLEN_NAME IC_723_departure_city\n",
    "from opeter.sbb\n",
    "where LINIEN_ID = \"723\" and linien_text = \"IC\" and ANKUNFTSZEIT = \"\"\n",
    "group by HALTESTELLEN_NAME ;\n"
   ]
  },
  {
   "cell_type": "code",
   "execution_count": 38,
   "metadata": {
    "autoscroll": "auto"
   },
   "outputs": [],
   "source": [
    "%jdbc(hive)\n",
    "select HALTESTELLEN_NAME as IC_728_departure_city\n",
    "from opeter.sbb\n",
    "where LINIEN_ID = \"728\" and linien_text = \"IC\" and ANKUNFTSZEIT = \"\"\n",
    "group by HALTESTELLEN_NAME ;\n"
   ]
  },
  {
   "cell_type": "markdown",
   "metadata": {},
   "source": [
    "#### Discussion\n",
    "As we can see trains that tends to be late more often, such as IC 706 or IC 728, come from far (St Gallen in this case). They will therefore tend to accumulate delay along their road. Trains that are rarely late, such as IC 707 or IC 723 will start closer (or directly from Geneva). \n"
   ]
  },
  {
   "cell_type": "markdown",
   "metadata": {},
   "source": [
    "## Part II - Twitter Dataset (25 points)\n",
    "\n",
    "Data source: <https://archive.org/details/twitterstream?sort=-publicdate>\n",
    "\n",
    "In this part, you will leverage Hive to extract the hashtags from the source data, and then perform light exploration of the prepared data.\n",
    "\n",
    "### Dataset Description\n",
    "\n",
    "Format: the dataset is presented as a collection of textfiles containing one JSON document per line. The data is organized in a hierarchy of folders, with one file per minute, ranging from 01.04.2016 until 31.07.2016. The textfiles have been compressed using bzip2.\n",
    "\n",
    "Location: you can find the data on HDFS at the path `/datasets/twitter`.\n",
    "\n",
    "Relevant fields:\n",
    "\n",
    "- `created_at`, `timestamp_ms`: the first is a human-readable string representation of when the tweet was posted. The latter represents the same instant as a timestamp in seconds since UNIX epoch.\n",
    "- `lang`: the language of the tweet content\n",
    "- `entities`: parsed entities from the tweet, e.g. hashtags, user mentions, URLs\n",
    "\n",
    "In the repository, you will also find the file `tweet-example.json` which contains a single tweet, nicely printed.\n",
    "\n",
    "### Disclaimer\n",
    "\n",
    "This dataset contains unfiltered data from Twitter. As such, you may be exposed to tweets/hashtags containing vulgarities, references to sexual acts, drug usage, etc."
   ]
  },
  {
   "cell_type": "markdown",
   "metadata": {},
   "source": [
    "### Question II.a. (5/25)\n",
    "\n",
    "First, create an external table named `<your_gaspar_name>.twitter` for this dataset. \n",
    "Then create table `<your_gaspar_name>.twitter_11_08_2018` which contains data only for the day of 11.08.2018."
   ]
  },
  {
   "cell_type": "code",
   "execution_count": 42,
   "metadata": {
    "autoscroll": "auto"
   },
   "outputs": [],
   "source": [
    "%jdbc(hive)\n",
    "drop table if exists opeter.twitter_json;\n",
    "\n",
    "create table if not exists opeter.twitter_json(json string)\n",
    "  stored as textfile\n",
    "  location '/datasets/twitter';\n",
    "\n",
    "\n",
    "drop table if exists opeter.twitter;\n",
    "\n",
    "create table if not exists opeter.twitter\n",
    "stored as parquet\n",
    "as\n",
    "select\n",
    "    date_format(from_utc_timestamp(from_unixtime(cast(cast(get_json_object(json, '$.timestamp_ms') as bigint)/1000 as bigint)), 'UTC'),  \"yyyy-MM-dd HH:mm:ss z\") as created_at,\n",
    "    cast(get_json_object(json, '$.timestamp_ms')as bigint) as timestamp_ms,\n",
    "    get_json_object(json, '$.lang') as lang,\n",
    "    get_json_object(json, '$.entities') as entities\n",
    "from opeter.twitter_json;\n",
    "    \n",
    "    \n",
    "select * from opeter.twitter limit 10;\n"
   ]
  },
  {
   "cell_type": "code",
   "execution_count": 43,
   "metadata": {
    "autoscroll": "auto"
   },
   "outputs": [],
   "source": [
    "%jdbc(hive)\n",
    "drop table if exists opeter.twitter_11_08_2018;\n",
    "\n",
    "create table if not exists opeter.twitter_11_08_2018\n",
    "stored as parquet\n",
    "as\n",
    "select * from opeter.twitter\n",
    "where timestamp_ms >= 1000*unix_timestamp(\"2018-08-11 00:00:00\", \"yyyy-MM-dd HH:mm:ss\") and timestamp_ms < 1000*unix_timestamp(\"2018-08-12 00:00:00\", \"yyyy-MM-dd HH:mm:ss\")\n",
    "order by timestamp_ms asc;\n"
   ]
  },
  {
   "cell_type": "markdown",
   "metadata": {},
   "source": [
    "### Question II.b. (10/25)\n",
    "\n",
    "Work on the `twitter_11_08_2018` table.\n",
    "\n",
    "i) Extract the hastags array from each tweet. Filter out the rows which do not have any hashtag. Include `timestamp_ms` and `lang` in the resulting table.\n",
    "ii) Normalize the table obtained from the previous step. This means that each row should contain exactly one hashtag. Include `timestamp_ms` and `lang` in the resulting table.\n",
    "\n",
    "Hint: your intermediary table should look like `intermediary_hashtags_example` and the final table should look like `hashtags_example` (see below).\n",
    "Hint: in (ii), you can use the following Hive functions:\n",
    "- `substr` function: <https://cwiki.apache.org/confluence/display/Hive/LanguageManual+UDF#LanguageManualUDF-StringFunctions>\n",
    "- `split` function: <https://cwiki.apache.org/confluence/display/Hive/LanguageManual+UDF#LanguageManualUDF-StringFunctions>\n",
    "- `explode` function: <https://cwiki.apache.org/confluence/display/Hive/LanguageManual+UDF#LanguageManualUDF-explode>\n",
    " "
   ]
  },
  {
   "cell_type": "code",
   "execution_count": 45,
   "metadata": {
    "autoscroll": "auto"
   },
   "outputs": [],
   "source": [
    "%jdbc(hive)\n",
    "drop table if exists opeter.intermediary_hashtags;\n",
    "\n",
    "create table opeter.intermediary_hashtags\n",
    "stored as parquet\n",
    "as\n",
    "    select timestamp_ms, lang, get_json_object(entities, \"$.hashtags.text\") as hashtags\n",
    "    from opeter.twitter_11_08_2018\n",
    "    where get_json_object(entities, \"$.hashtags.text\") is not null;\n",
    "\n",
    "select * from opeter.intermediary_hashtags limit 12;"
   ]
  },
  {
   "cell_type": "code",
   "execution_count": 46,
   "metadata": {
    "autoscroll": "auto"
   },
   "outputs": [],
   "source": [
    "%jdbc(hive)\n",
    "drop table if exists opeter.hashtags;\n",
    "\n",
    "create table opeter.hashtags\n",
    "stored as parquet\n",
    "as\n",
    "    select timestamp_ms, lang, substring_index(substring_index(hashtag, '\"', -2), '\"', 1) as hashtag\n",
    "    from opeter.intermediary_hashtags\n",
    "    LATERAL VIEW explode(split(hashtags, \",\")) explodeVal AS hashtag\n",
    "    order by timestamp_ms asc;\n",
    "\n",
    "select * from opeter.hashtags limit 10;"
   ]
  },
  {
   "cell_type": "markdown",
   "metadata": {},
   "source": [
    "### Question II.c. (5/25)\n",
    "\n",
    "i) From the hashtags table you obtained in the previous question, find out the 10 most represented languages.\n",
    "ii) Get the top 20 most mentioned hashtags. Display the results with the contribution of each language to the hashtags."
   ]
  },
  {
   "cell_type": "code",
   "execution_count": 48,
   "metadata": {
    "autoscroll": "auto"
   },
   "outputs": [],
   "source": [
    "%jdbc(hive)\n",
    "drop table if exists opeter.hashtags_lang_count;\n",
    "create table opeter.hashtags_lang_count\n",
    "stored as parquet\n",
    "as\n",
    "    select lang, count(*) as count\n",
    "    from opeter.hashtags \n",
    "    group by lang\n",
    "    order by count desc\n",
    "    limit 10;\n",
    "    \n",
    "select * from opeter.hashtags_lang_count"
   ]
  },
  {
   "cell_type": "code",
   "execution_count": 49,
   "metadata": {
    "autoscroll": "auto"
   },
   "outputs": [],
   "source": [
    "%jdbc(hive)\n",
    "drop table if exists opeter.hashtags_count;\n",
    "\n",
    "create table opeter.hashtags_count\n",
    "stored as parquet\n",
    "as\n",
    "    select hashtag, count(*) as count\n",
    "    from opeter.hashtags\n",
    "    group by hashtag\n",
    "    order by count desc\n",
    "    limit 20;\n",
    "\n",
    "drop table if exists opeter.hashtags_count_per_lang;\n",
    "\n",
    "create table opeter.hashtags_count_per_lang\n",
    "stored as parquet\n",
    "as\n",
    "    select hashtag, count(*) as count, lang\n",
    "    from opeter.hashtags\n",
    "    group by hashtag, lang\n",
    "    order by count desc;\n",
    "    \n",
    "drop table if exists opeter.hashtags_grouped;\n",
    "create table opeter.hashtags_grouped\n",
    "stored as parquet\n",
    "as\n",
    "    select cpl.* \n",
    "    from opeter.hashtags_count_per_lang cpl\n",
    "    inner join opeter.hashtags_count hc\n",
    "    on (cpl.hashtag == hc.hashtag);\n",
    "    \n",
    "select * from opeter.hashtags_grouped"
   ]
  },
  {
   "cell_type": "markdown",
   "metadata": {},
   "source": [
    "### Question II.d. (5/25)\n",
    "\n",
    "Now, working on the whole twitter dataset, perform the same as in questions II.b. and II.c."
   ]
  },
  {
   "cell_type": "code",
   "execution_count": 51,
   "metadata": {
    "autoscroll": "auto"
   },
   "outputs": [],
   "source": [
    "%jdbc(hive)\n",
    "drop table if exists opeter.intermediary_hashtags_full;\n",
    "\n",
    "create table opeter.intermediary_hashtags_full\n",
    "stored as parquet\n",
    "as\n",
    "    select timestamp_ms, lang, get_json_object(entities, \"$.hashtags.text\") as hashtags\n",
    "    from opeter.twitter\n",
    "    where get_json_object(entities, \"$.hashtags.text\") is not null;\n",
    "\n",
    "drop table if exists opeter.hashtags_full;\n",
    "\n",
    "create table opeter.hashtags_full\n",
    "stored as parquet\n",
    "as\n",
    "    select timestamp_ms, lang, substring_index(substring_index(hashtag, '\"', -2), '\"', 1) as hashtag\n",
    "    from opeter.intermediary_hashtags_full\n",
    "    LATERAL VIEW explode(split(hashtags, \",\")) explodeVal AS hashtag\n",
    "    order by timestamp_ms asc;\n",
    "\n",
    "select * from opeter.hashtags_full limit 10;"
   ]
  },
  {
   "cell_type": "code",
   "execution_count": 52,
   "metadata": {
    "autoscroll": "auto"
   },
   "outputs": [],
   "source": [
    "%jdbc(hive)\n",
    "drop table if exists opeter.hashtags_lang_count_full;\n",
    "create table opeter.hashtags_lang_count_full\n",
    "stored as parquet\n",
    "as\n",
    "    select lang, count(*) as count\n",
    "    from opeter.hashtags_full \n",
    "    group by lang\n",
    "    order by count desc\n",
    "    limit 10;\n",
    "\n",
    "drop table if exists opeter.hashtags_count_full;\n",
    "\n",
    "create table opeter.hashtags_count_full\n",
    "stored as parquet\n",
    "as\n",
    "    select hashtag, count(*) as count\n",
    "    from opeter.hashtags_full\n",
    "    group by hashtag\n",
    "    order by count desc\n",
    "    limit 20;\n",
    "\n",
    "drop table if exists opeter.hashtags_count_per_lang_full;\n",
    "\n",
    "create table opeter.hashtags_count_per_lang_full\n",
    "stored as parquet\n",
    "as\n",
    "    select hashtag, count(*) as count, lang\n",
    "    from opeter.hashtags_full\n",
    "    group by hashtag, lang\n",
    "    order by count desc;\n",
    "    \n",
    "drop table if exists opeter.hashtags_grouped_full;\n",
    "create table opeter.hashtags_grouped_full\n",
    "stored as parquet\n",
    "as\n",
    "    select cpl.* \n",
    "    from opeter.hashtags_count_per_lang_full cpl\n",
    "    inner join opeter.hashtags_count_full hc\n",
    "    on (cpl.hashtag == hc.hashtag);\n",
    "    \n",
    "select * from opeter.hashtags_grouped_full"
   ]
  },
  {
   "cell_type": "markdown",
   "metadata": {},
   "source": [
    "### Question II.e. (bonus 2.5)\n",
    "\n",
    "Display the evolution of two hashtags of your choice. That is, display the number of mentions for each day over the range of the whole data set.\n",
    "You should use the hastag table from the previous question."
   ]
  },
  {
   "cell_type": "markdown",
   "metadata": {},
   "source": [
    "We have found three of top 10 hashtags has one hidden factor in common, so below we will present the evolution of these hashtags and try to explain their interconnection."
   ]
  },
  {
   "cell_type": "code",
   "execution_count": 55,
   "metadata": {
    "autoscroll": "auto"
   },
   "outputs": [],
   "source": [
    "%jdbc(hive)\n",
    "\n",
    "with evolution_hashtags as  (\n",
    "    select hashtag, date_format(from_utc_timestamp(from_unixtime(cast(timestamp_ms/1000 as bigint)), 'UTC'),  \"yyyy-MM-dd\") as hashtag_date from opeter.hashtags_full\n",
    ")\n",
    "\n",
    "select hashtag_date, hashtag, count(*) as count\n",
    "from evolution_hashtags\n",
    "where (hashtag = \"IDOL\" or hashtag = \"MMVAs\" or hashtag = \"LOVE_YOURSELF\")\n",
    "group by  hashtag_date, hashtag\n",
    "order by hashtag_date;"
   ]
  },
  {
   "cell_type": "markdown",
   "metadata": {},
   "source": [
    "Hashtag MMVAs stands for iHeartRadioMuch Music Video Awards, annual awards which gives honour and recognition for the best musical videos [iHeartRadio MMVAs](https://en.wikipedia.org/wiki/IHeartRadio_MMVAs)\n",
    "The MMVA awards have several categories, such as Video of The Year, Best Pop Artist or Group, Fan Fave Due or Group etc.\n",
    "In 2018, MMVAs awards ceremony [were held on August 26, 2018](https://en.wikipedia.org/wiki/2018_iHeartRadio_MMVAs), which can explain highest value in MMVAs trend occuring on that day.\n",
    "The non-negligible amount of mentions during month August of 2018, can be explained by the time of announcing nominations, [1st August](https://en.wikipedia.org/wiki/2018_iHeartRadio_MMVAs#cite_note-7) [source](http://exclaim.ca/music/article/heres_the_full_list_of_2018_iheartradio_mmva_nominees).\n",
    "\n",
    "Hashtag IDOL stands for a same-named song of the south-Korean band [BTS](https://en.wikipedia.org/wiki/Idol_(BTS_song)). \n",
    "The teaser video [was released on August 22, 2018](https://en.wikipedia.org/wiki/Idol_(BTS_song)) and [song was released on August 24, 2018](https://en.wikipedia.org/wiki/Idol_(BTS_song)), which explains almost non-existent #IDOL mentions preceeding 22nd, pick of 22nd and pick of the 24th. \n",
    "The high number of the IDOL mentions on 24nd can be explained by the fact Idol video was, \n",
    "[the most watched music video within the first 24 hours](https://www.billboard.com/articles/columns/pop/8472359/bts-idol-youtube-24-hour-debut), with about 56 Million watches.\n",
    "\n",
    "If you thought there is no connection between these hashtags, sorry, you are not right. Turns out group BTS has been won the 2018 iHeartRadion MMVAs in category [Fan Fave Duo or Group](https://en.wikipedia.org/wiki/Idol_(BTS_song)). The larger number of tweets in favour of MMVAs on 26th can be understood by taking into account that fastival awarded many other artist, which produced additional MMVAs hashtags.\n",
    "\n",
    "But that is not whole buzz around the group, LOVE_YOURSELF is hashtag that corresponds to an three album compilations Love Yourself recorded by BTS, and song Idol is part of the album [Love Yourself: Answer] (https://en.wikipedia.org/wiki/Idol_(BTS_song))\n",
    "\n",
    "Hashtag LOVE_YOURSELF has its picks in mentions on 9th, 13th, 16th and 24th August which can be explained by release of the fictional notes related to the album on 6th, and promitional concept photos relised on 13th and 16th following different versions of album [source](https://en.wikipedia.org/wiki/Love_Yourself:_Answer). The sole album has been realised on 24th August and we can observe the Idol hashtag totally outshines the whole album by having 5 times more mentions of corresponding hashtags, and 10 times more mentions on 22nd, the day of release of song's teaser video."
   ]
  },
  {
   "cell_type": "markdown",
   "metadata": {},
   "source": [
    "Thank you very much for your attention"
   ]
  }
 ],
 "metadata": {
  "kernelspec": {
   "display_name": "Python 3",
   "language": "python",
   "name": "python3"
  },
  "language_info": {
   "codemirror_mode": {
    "name": "ipython",
    "version": 3
   },
   "file_extension": ".py",
   "mimetype": "text/x-python",
   "name": "python",
   "nbconvert_exporter": "python",
   "pygments_lexer": "ipython3",
   "version": "3.7.4"
  }
 },
 "nbformat": 4,
 "nbformat_minor": 2
}
