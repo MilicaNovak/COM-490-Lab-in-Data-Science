{
 "cells": [
  {
   "cell_type": "code",
   "execution_count": null,
   "metadata": {},
   "outputs": [],
   "source": [
    "%matplotlib inline\n",
    "import matplotlib.pylab as plt\n",
    "plt.rcParams['figure.figsize'] = (10,6)\n",
    "plt.rcParams['font.size'] = 18\n",
    "plt.style.use('fivethirtyeight')"
   ]
  },
  {
   "cell_type": "markdown",
   "metadata": {},
   "source": [
    "# Uncovering World Events using Twitter Hashtags\n",
    "\n",
    "## ... and learning about Spark `DataFrames` along the way\n",
    "\n",
    "In this notebook, we will use temporal information about Twitter hashtags to discover trending topics and potentially uncover world events as they occurred. You've already used this dataset in a previous homework, but here we will be working with it in Apache Spark.\n",
    "\n",
    "### Hashtags\n",
    "\n",
    "The idea here is that when an event is happening and people are having a conversation about it on Twitter, a set of uniform hashtags that represent the event spontaneously evolves. Twitter users then use those hashtags to communicate with one another. Some hashtags, like `#RT` for \"retweet\" or just `#retweet` are used frequently and don't tell us much about what is going on. But a sudden appearance of a hashtag like `#oscars` probably indicates that the oscars are underway. For a particularly cool example of this type of analysis, check out [this blog post about earthquake detection using Twitter data](https://blog.twitter.com/official/en_us/a/2015/usgs-twitter-data-earthquake-detection.html) (although they search the text and not necessarily hashtags)."
   ]
  },
  {
   "cell_type": "markdown",
   "metadata": {},
   "source": [
    "## Initialize the `SparkSession`"
   ]
  },
  {
   "cell_type": "code",
   "execution_count": 4,
   "metadata": {
    "collapsed": true
   },
   "outputs": [],
   "source": [
    "import getpass\n",
    "import pyspark\n",
    "from pyspark.sql import SparkSession\n",
    "\n",
    "spark = SparkSession \\\n",
    "    .builder \\\n",
    "    .master(\"yarn\") \\\n",
    "    .appName('twitter-{0}'.format(getpass.getuser())) \\\n",
    "    .config('spark.executor.memory', '8g') \\\n",
    "    .config('spark.executor.instances', '5') \\\n",
    "    .config('spark.port.maxRetries', '100') \\\n",
    "    .getOrCreate()"
   ]
  },
  {
   "cell_type": "code",
   "execution_count": 5,
   "metadata": {},
   "outputs": [
    {
     "data": {
      "text/html": [
       "\n",
       "            <div>\n",
       "                <p><b>SparkSession - in-memory</b></p>\n",
       "                \n",
       "        <div>\n",
       "            <p><b>SparkContext</b></p>\n",
       "\n",
       "            <p><a href=\"http://iccluster042.iccluster.epfl.ch:4044\">Spark UI</a></p>\n",
       "\n",
       "            <dl>\n",
       "              <dt>Version</dt>\n",
       "                <dd><code>v2.3.2.3.1.0.0-78</code></dd>\n",
       "              <dt>Master</dt>\n",
       "                <dd><code>yarn</code></dd>\n",
       "              <dt>AppName</dt>\n",
       "                <dd><code>twitter-opeter</code></dd>\n",
       "            </dl>\n",
       "        </div>\n",
       "        \n",
       "            </div>\n",
       "        "
      ],
      "text/plain": [
       "<pyspark.sql.session.SparkSession at 0x7fbeba5cbc18>"
      ]
     },
     "execution_count": 5,
     "metadata": {},
     "output_type": "execute_result"
    }
   ],
   "source": [
    "spark"
   ]
  },
  {
   "cell_type": "markdown",
   "metadata": {},
   "source": [
    "## Set up the hashtag `DataFrame` (10 points / 60)\n",
    "\n",
    "We have prepared the hashtag data spanning the time from April-July 2016. This is a significant time in modern European history, e.g. see [Brexit](https://en.wikipedia.org/wiki/Brexit). Lets see if we can see any interesting trends about these events in the Twitter data. "
   ]
  },
  {
   "cell_type": "code",
   "execution_count": 6,
   "metadata": {
    "collapsed": true
   },
   "outputs": [],
   "source": [
    "from datetime import datetime\n",
    "\n",
    "import pyspark.sql.functions as functions"
   ]
  },
  {
   "cell_type": "markdown",
   "metadata": {},
   "source": [
    "### TODO (1 point/10)\n",
    "\n",
    "Load the **parquet** data from `/datasets/twitter/parquet/2016-hashtags-timestamp` into a Spark dataframe using the appropriate `SparkSession` method. \n",
    "\n",
    "Look at the first few rows of the dataset - note the timestamp and its units!"
   ]
  },
  {
   "cell_type": "code",
   "execution_count": 7,
   "metadata": {
    "collapsed": true
   },
   "outputs": [],
   "source": [
    "path = '/datasets/twitter/parquet/2016-hashtags-timestamp'\n",
    "df = spark.read.parquet(path)"
   ]
  },
  {
   "cell_type": "code",
   "execution_count": 8,
   "metadata": {},
   "outputs": [
    {
     "name": "stdout",
     "output_type": "stream",
     "text": [
      "+------------+----+------------------+\n",
      "|   timestamp|lang|           hashtag|\n",
      "+------------+----+------------------+\n",
      "|1.46152973E9|  ar|  كلنا_لله_والرسول|\n",
      "|1.46154317E9|  ja|             vジャンプ|\n",
      "| 1.4615296E9|  pt|     gameofthrones|\n",
      "|1.46152832E9|  tr|            itiraf|\n",
      "|1.46154573E9|  ko|                더쇼|\n",
      "|1.46154483E9| und|              ford|\n",
      "| 1.4615433E9|  en|        stanleycup|\n",
      "|1.46152934E9|  ru|           новости|\n",
      "|1.46154573E9|  en|        bsoulradio|\n",
      "|1.46154496E9|  en|tsouitscomplicated|\n",
      "|1.46152973E9|  ja|            rezero|\n",
      "|1.46154317E9|  en|              star|\n",
      "|1.46154253E9|  ko|              성인자료|\n",
      "| 1.4615296E9|  ar|               أخر|\n",
      "|1.46153152E9|  tr|      aşıkolanadam|\n",
      "| 1.4615296E9|  ja|              相互限定|\n",
      "|1.46152896E9|  en|              vibe|\n",
      "|1.46154458E9|  en|     gameofthrones|\n",
      "|1.46154317E9|  ja|              予約投稿|\n",
      "|1.46154317E9|  ja|               傷物語|\n",
      "+------------+----+------------------+\n",
      "only showing top 20 rows\n",
      "\n"
     ]
    }
   ],
   "source": [
    "df.show()"
   ]
  },
  {
   "cell_type": "markdown",
   "metadata": {},
   "source": [
    "### User-defined functions\n",
    "\n",
    "A neat trick of spark dataframes is that you can essentially use something very much like an RDD `map` method but without switching to the RDD. If you are familiar with database languages, this works very much like e.g. a user-defined function in SQL. \n",
    "\n",
    "So, for example, if we wanted to make a user-defined python function that returns the hashtags in lowercase, we could do something like this:"
   ]
  },
  {
   "cell_type": "code",
   "execution_count": 11,
   "metadata": {
    "collapsed": true
   },
   "outputs": [],
   "source": [
    "@functions.udf\n",
    "def lowercase(text):\n",
    "    \"\"\"Convert text to lowercase\"\"\"\n",
    "    return text.lower()"
   ]
  },
  {
   "cell_type": "markdown",
   "metadata": {},
   "source": [
    "The @functions.udf is a \"decorator\" -- this is really handy python syntactic sugar and in this case is equivalent to:\n",
    "\n",
    "```\n",
    "def lowercase(text):\n",
    "    return text.lower()\n",
    "    \n",
    "lowercase = functions.udf(lowercase)\n",
    "```\n",
    "\n",
    "It basically takes our function and adds to its functionality. In this case, it registers our function as a pyspark dataframe user-defined function (UDF).\n",
    "\n",
    "Using these UDFs is very straightforward and analogous to other Spark dataframe operations. For example:"
   ]
  },
  {
   "cell_type": "code",
   "execution_count": 12,
   "metadata": {},
   "outputs": [
    {
     "name": "stdout",
     "output_type": "stream",
     "text": [
      "+------------------+\n",
      "|lowercase(hashtag)|\n",
      "+------------------+\n",
      "|  كلنا_لله_والرسول|\n",
      "|             vジャンプ|\n",
      "|     gameofthrones|\n",
      "|            itiraf|\n",
      "|                더쇼|\n",
      "|              ford|\n",
      "|        stanleycup|\n",
      "|           новости|\n",
      "|        bsoulradio|\n",
      "|tsouitscomplicated|\n",
      "|            rezero|\n",
      "|              star|\n",
      "|              성인자료|\n",
      "|               أخر|\n",
      "|      aşıkolanadam|\n",
      "|              相互限定|\n",
      "|              vibe|\n",
      "|     gameofthrones|\n",
      "|              予約投稿|\n",
      "|               傷物語|\n",
      "+------------------+\n",
      "only showing top 20 rows\n",
      "\n"
     ]
    }
   ],
   "source": [
    "df.select(lowercase(df.hashtag)).show()"
   ]
  },
  {
   "cell_type": "markdown",
   "metadata": {},
   "source": [
    "Using a framework like Spark is all about understanding the ins and outs of how it functions and knowing what it offers. One of the cool things about the dataframe API is that many functions are already defined for you (turning strings into lowercase being one of them). \n",
    "\n",
    "### TODO (2 points / 10)\n",
    "\n",
    "Find the Spark python API documentation. Look for the `sql` section and find the listing of `sql.functions`. Repeat the above (turning hashtags into lowercase) but use the built-in function."
   ]
  },
  {
   "cell_type": "code",
   "execution_count": 13,
   "metadata": {},
   "outputs": [
    {
     "name": "stdout",
     "output_type": "stream",
     "text": [
      "+------------------+\n",
      "|    lower(hashtag)|\n",
      "+------------------+\n",
      "|  كلنا_لله_والرسول|\n",
      "|             vジャンプ|\n",
      "|     gameofthrones|\n",
      "|            itiraf|\n",
      "|                더쇼|\n",
      "|              ford|\n",
      "|        stanleycup|\n",
      "|           новости|\n",
      "|        bsoulradio|\n",
      "|tsouitscomplicated|\n",
      "|            rezero|\n",
      "|              star|\n",
      "|              성인자료|\n",
      "|               أخر|\n",
      "|      aşıkolanadam|\n",
      "|              相互限定|\n",
      "|              vibe|\n",
      "|     gameofthrones|\n",
      "|              予約投稿|\n",
      "|               傷物語|\n",
      "+------------------+\n",
      "only showing top 20 rows\n",
      "\n"
     ]
    }
   ],
   "source": [
    "df.select(functions.lower(df.hashtag)).show()"
   ]
  },
  {
   "cell_type": "markdown",
   "metadata": {},
   "source": [
    "We'll work with a combination of these built-in functions and user-defined functions for the remainder of this homework. \n",
    "\n",
    "### TODO (7 points/10)\n",
    "\n",
    "Create `english_df` consisting of **lowercase** hashtags from only english-language tweets. In addition, convert the timestamp to a more readable format like this and name the column `date`:\n",
    "\n",
    "```\n",
    "2016-04-01 08:41:00\n",
    "```"
   ]
  },
  {
   "cell_type": "code",
   "execution_count": 14,
   "metadata": {
    "collapsed": true
   },
   "outputs": [],
   "source": [
    "@functions.udf\n",
    "def niceformat(time):\n",
    "    '''\n",
    "    Convert float to int\n",
    "    '''\n",
    "    return datetime.utcfromtimestamp(int(time)).strftime('%Y-%m-%d %H:%M:%S')"
   ]
  },
  {
   "cell_type": "code",
   "execution_count": 15,
   "metadata": {},
   "outputs": [
    {
     "name": "stdout",
     "output_type": "stream",
     "text": [
      "+------------+----+------------------+-------------------+\n",
      "|   timestamp|lang|           hashtag|               date|\n",
      "+------------+----+------------------+-------------------+\n",
      "| 1.4615433E9|  en|        stanleycup|2016-04-25 00:14:56|\n",
      "|1.46154573E9|  en|        bsoulradio|2016-04-25 00:55:28|\n",
      "|1.46154496E9|  en|tsouitscomplicated|2016-04-25 00:42:40|\n",
      "|1.46154317E9|  en|              star|2016-04-25 00:12:48|\n",
      "|1.46152896E9|  en|              vibe|2016-04-24 20:16:00|\n",
      "|1.46154458E9|  en|     gameofthrones|2016-04-25 00:36:16|\n",
      "|1.46152806E9|  en|       germansluts|2016-04-24 20:01:04|\n",
      "|1.46152922E9|  en|        teamnehlen|2016-04-24 20:20:16|\n",
      "|1.46152934E9|  en|          warriors|2016-04-24 20:22:24|\n",
      "|1.46152845E9|  en|           camgirl|2016-04-24 20:07:28|\n",
      "|1.46152947E9|  en|               okc|2016-04-24 20:24:32|\n",
      "|1.46152909E9|  en|         imwithher|2016-04-24 20:18:08|\n",
      "|1.46152832E9|  en|            bruins|2016-04-24 20:05:20|\n",
      "| 1.4615424E9|  en|   spoonerismtweet|2016-04-25 00:00:00|\n",
      "|1.46152934E9|  en|          hawkwind|2016-04-24 20:22:24|\n",
      "|1.46152909E9|  en|              r6pl|2016-04-24 20:18:08|\n",
      "| 1.4615296E9|  en|          lemonade|2016-04-24 20:26:40|\n",
      "|1.46152922E9|  en|          playhaus|2016-04-24 20:20:16|\n",
      "|1.46154458E9|  en|   dogsofinstagram|2016-04-25 00:36:16|\n",
      "|1.46153037E9|  en|               twi|2016-04-24 20:39:28|\n",
      "+------------+----+------------------+-------------------+\n",
      "only showing top 20 rows\n",
      "\n"
     ]
    }
   ],
   "source": [
    "english = df.where(df['lang'] =='en')\n",
    "english_df = english.select(english.timestamp,english.lang,functions.lower(english.hashtag).alias('hashtag'), \\\n",
    "                            niceformat(english.timestamp).alias('date'))\n",
    "english_df.show()"
   ]
  },
  {
   "cell_type": "markdown",
   "metadata": {},
   "source": [
    "Your `english_df` should look something like this:\n",
    "\n",
    "```\n",
    "+------------+----+------------------+-------------------+\n",
    "|   timestamp|lang|           hashtag|               date|\n",
    "+------------+----+------------------+-------------------+\n",
    "| 1.4615433E9|  en|        stanleycup|2016-04-25 02:14:56|\n",
    "|1.46154573E9|  en|        bsoulradio|2016-04-25 02:55:28|\n",
    "|1.46154496E9|  en|tsouitscomplicated|2016-04-25 02:42:40|\n",
    "|1.46154317E9|  en|              star|2016-04-25 02:12:48|\n",
    "|1.46152896E9|  en|              vibe|2016-04-24 22:16:00|\n",
    "+------------+----+------------------+-------------------+\n",
    "```"
   ]
  },
  {
   "cell_type": "markdown",
   "metadata": {},
   "source": [
    "## Twitter hashtag trends (50 points / 60)\n",
    "\n",
    "In this section we will try to do a slightly more complicated analysis of the tweets. Our goal is to get an idea of tweet frequency as a function of time for certain hashtags. \n",
    "\n",
    "Lets build this up in steps. First, lets see how we can start to organize the tweets by their timestamps. \n",
    "\n",
    "As a first easy example, lets say we just want to count the number of tweets per minute over the entire span of our data. For this, we first need a \"global\" minute value, e.g. \"minute of the year\" or something similar. \n",
    "\n",
    "Spark provides us with some handy built-in dataframe functions that are made for transforming date and time fields. \n",
    "\n",
    "Have a look [here](http://spark.apache.org/docs/latest/api/python/pyspark.sql.html#module-pyspark.sql.functions) to see the whole list of custom dataframe functions - you will need to use them to complete the next set of TODO items."
   ]
  },
  {
   "cell_type": "markdown",
   "metadata": {},
   "source": [
    "Note that the functions can be combined. Consider the following dataframe and its transformation:"
   ]
  },
  {
   "cell_type": "code",
   "execution_count": 16,
   "metadata": {},
   "outputs": [
    {
     "name": "stdout",
     "output_type": "stream",
     "text": [
      "+---------------------+\n",
      "|SIN(RADIANS(degrees))|\n",
      "+---------------------+\n",
      "|                  0.0|\n",
      "|  0.01745240643728351|\n",
      "|  0.03489949670250097|\n",
      "|  0.05233595624294383|\n",
      "|   0.0697564737441253|\n",
      "|  0.08715574274765817|\n",
      "|  0.10452846326765346|\n",
      "|  0.12186934340514748|\n",
      "|  0.13917310096006544|\n",
      "|  0.15643446504023087|\n",
      "|  0.17364817766693033|\n",
      "|   0.1908089953765448|\n",
      "|  0.20791169081775931|\n",
      "|  0.22495105434386498|\n",
      "|  0.24192189559966773|\n",
      "|  0.25881904510252074|\n",
      "|  0.27563735581699916|\n",
      "|   0.2923717047227367|\n",
      "|   0.3090169943749474|\n",
      "|   0.3255681544571567|\n",
      "+---------------------+\n",
      "only showing top 20 rows\n",
      "\n"
     ]
    }
   ],
   "source": [
    "from pyspark.sql import Row\n",
    "\n",
    "# create a sample dataframe with one column \"degrees\" going from 0 to 180\n",
    "test_df = spark.createDataFrame(spark.sparkContext.range(180).map(lambda x: Row(degrees=x)), ['degrees'])\n",
    "\n",
    "# define a function \"sin_rad\" that first converts degrees to radians and then takes the sine using built-in functions\n",
    "sin_rad = functions.sin(functions.radians(test_df.degrees))\n",
    "\n",
    "# show the result\n",
    "test_df.select(sin_rad).show()"
   ]
  },
  {
   "cell_type": "markdown",
   "metadata": {},
   "source": [
    "### DataFrames `groupBy`\n",
    "\n",
    "We used `groupBy` already in the previous notebook, but here we will take more advantage of its features. \n",
    "\n",
    "One important thing to note is that unlike other RDD or DataFrame transformations, the `groupBy` does not return another DataFrame, but a `GroupedData` object instead, with its own methods. These methods allow you to do various transformations and aggregations on the data of the grouped rows. \n",
    "\n",
    "Conceptually the procedure is a lot like this:\n",
    "\n",
    "![groupby](https://i.stack.imgur.com/sgCn1.jpg)\n",
    "\n",
    "The column that is used for the `groupBy` is the `key` - once we have the values of a particular key all together, we can use various aggregation functions on them to generate a transformed dataset. In this example, the aggregation function is a simple `sum`. In the simple procedure below, the `key` will be the hashtag."
   ]
  },
  {
   "cell_type": "markdown",
   "metadata": {},
   "source": [
    "### TODO (1 point / 50)\n",
    "\n",
    "Calculate the top five most common hashtags in the whole english-language dataset.\n",
    "\n",
    "This should be your result:\n",
    "\n",
    "```\n",
    "+-------------+------+\n",
    "|      hashtag| count|\n",
    "+-------------+------+\n",
    "|   mtvhottest|800829|\n",
    "|veranomtv2016|539028|\n",
    "| iheartawards|447648|\n",
    "|  bestfanarmy|429739|\n",
    "|   teenchoice|345231|\n",
    "+-------------+------+\n",
    "```"
   ]
  },
  {
   "cell_type": "code",
   "execution_count": 17,
   "metadata": {},
   "outputs": [
    {
     "name": "stdout",
     "output_type": "stream",
     "text": [
      "+-------------+------+\n",
      "|      hashtag| count|\n",
      "+-------------+------+\n",
      "|   mtvhottest|800829|\n",
      "|veranomtv2016|539028|\n",
      "| iheartawards|447648|\n",
      "|  bestfanarmy|429739|\n",
      "|   teenchoice|345231|\n",
      "+-------------+------+\n",
      "only showing top 5 rows\n",
      "\n"
     ]
    }
   ],
   "source": [
    "english_df.groupBy(english_df.hashtag).count().sort('count', ascending=False).show(5)"
   ]
  },
  {
   "cell_type": "markdown",
   "metadata": {},
   "source": [
    "## Daily hashtag trends\n",
    "\n",
    "Now we will start to complicate the analysis a bit. Remember, our goal is to uncover trending topics on a timescale of a few days. A much needed column then is simply `day`. To convert the date string into day-of-year, you can use the built-in [dayofyear](http://spark.apache.org/docs/latest/api/python/pyspark.sql.html#pyspark.sql.functions.dayofyear) function. \n",
    "\n",
    "In the subsequent sections we will then not only see which hashtags are globally most popular, but which ones experience the biggest changes in popularity - those are the \"trending\" topics. If there is suddenly a substantial increase of a hashtag over a matter of a day or two, it may signify an event taking place. "
   ]
  },
  {
   "cell_type": "markdown",
   "metadata": {},
   "source": [
    "### TODO (2 points / 50)\n",
    "\n",
    "Create a dataframe called `daily_hashtag` that includes the columns `month`, `week`, `day` and `hashtag`. Use the `english_df` you made above to start, and make sure you find the appropriate spark dataframe functions to make your life easier. Show the result.\n",
    "\n",
    "Try to match this view:\n",
    "\n",
    "```\n",
    "+-----+----+---+------------------+\n",
    "|month|week|day|           hashtag|\n",
    "+-----+----+---+------------------+\n",
    "|    4|  17|116|        stanleycup|\n",
    "|    4|  17|116|        bsoulradio|\n",
    "|    4|  17|116|tsouitscomplicated|\n",
    "|    4|  17|116|              star|\n",
    "|    4|  16|115|              vibe|\n",
    "+-----+----+---+------------------+\n",
    "```"
   ]
  },
  {
   "cell_type": "code",
   "execution_count": 18,
   "metadata": {},
   "outputs": [
    {
     "name": "stdout",
     "output_type": "stream",
     "text": [
      "+-----+----+---+------------------+\n",
      "|month|week|day|           hashtag|\n",
      "+-----+----+---+------------------+\n",
      "|    4|  17|116|        stanleycup|\n",
      "|    4|  17|116|        bsoulradio|\n",
      "|    4|  17|116|tsouitscomplicated|\n",
      "|    4|  17|116|              star|\n",
      "|    4|  16|115|              vibe|\n",
      "|    4|  17|116|     gameofthrones|\n",
      "|    4|  16|115|       germansluts|\n",
      "|    4|  16|115|        teamnehlen|\n",
      "|    4|  16|115|          warriors|\n",
      "|    4|  16|115|           camgirl|\n",
      "|    4|  16|115|               okc|\n",
      "|    4|  16|115|         imwithher|\n",
      "|    4|  16|115|            bruins|\n",
      "|    4|  17|116|   spoonerismtweet|\n",
      "|    4|  16|115|          hawkwind|\n",
      "|    4|  16|115|              r6pl|\n",
      "|    4|  16|115|          lemonade|\n",
      "|    4|  16|115|          playhaus|\n",
      "|    4|  17|116|   dogsofinstagram|\n",
      "|    4|  16|115|               twi|\n",
      "+-----+----+---+------------------+\n",
      "only showing top 20 rows\n",
      "\n"
     ]
    }
   ],
   "source": [
    "daily_hashtag = english_df.select(functions.month(english_df.date).alias('month'), \\\n",
    "                                  functions.weekofyear(english_df.date).alias('week'), \\\n",
    "                                  functions.dayofyear(english_df.date).alias('day'), \\\n",
    "                                  english_df.hashtag)\n",
    "daily_hashtag.show()"
   ]
  },
  {
   "cell_type": "markdown",
   "metadata": {},
   "source": [
    "### TODO (2 points / 50)\n",
    "\n",
    "Now we want to calculate the number of times a hashtag is used per day. Sort in descending order of daily counts and show the result. Call the resulting dataframe `day_counts`.\n",
    "\n",
    "Your output should look like this:\n",
    "\n",
    "```\n",
    "+---+------------+----+------+\n",
    "|day|     hashtag|week| count|\n",
    "+---+------------+----+------+\n",
    "| 94|iheartawards|  13|208326|\n",
    "| 94| bestfanarmy|  13|202267|\n",
    "| 93|iheartawards|  13|133463|\n",
    "| 93| bestfanarmy|  13|131405|\n",
    "| 94|     5sosfam|  13| 81002|\n",
    "+---+------------+----+------+\n",
    "```\n",
    "\n",
    "<div class=\"alert alert-info\">\n",
    "<p>Make sure you use `cache()` when you create `day_counts` because we will need it in the steps that follow!</p>\n",
    "</div>"
   ]
  },
  {
   "cell_type": "code",
   "execution_count": 19,
   "metadata": {},
   "outputs": [
    {
     "name": "stdout",
     "output_type": "stream",
     "text": [
      "+---+------------+----+------+\n",
      "|day|     hashtag|week| count|\n",
      "+---+------------+----+------+\n",
      "| 94|iheartawards|  13|247453|\n",
      "| 94| bestfanarmy|  13|239519|\n",
      "| 93|iheartawards|  13|136597|\n",
      "| 93| bestfanarmy|  13|134381|\n",
      "| 94|     5sosfam|  13|102599|\n",
      "+---+------------+----+------+\n",
      "only showing top 5 rows\n",
      "\n"
     ]
    }
   ],
   "source": [
    "day_counts = daily_hashtag.groupBy(daily_hashtag.day, daily_hashtag.hashtag)\\\n",
    "                .agg(functions.min('week').alias('week'), functions.count(functions.lit(1)).alias('count'))\\\n",
    "                .sort('count', ascending=False).cache()\n",
    "day_counts.show(5)"
   ]
  },
  {
   "cell_type": "markdown",
   "metadata": {},
   "source": [
    "### TODO (2 points / 50)\n",
    "\n",
    "To get an idea of which hashtags stay popular for several days, calculate the average number of daily occurences for each week. Hint: use the `week` column we created above. Sort in descending order and show the top 20."
   ]
  },
  {
   "cell_type": "code",
   "execution_count": 20,
   "metadata": {},
   "outputs": [
    {
     "name": "stdout",
     "output_type": "stream",
     "text": [
      "+----+-----------------+------------------+\n",
      "|week|          hashtag|      avg_per_week|\n",
      "+----+-----------------+------------------+\n",
      "|  13|     iheartawards|          145240.0|\n",
      "|  13|      bestfanarmy|141601.66666666666|\n",
      "|  13|          5sosfam|55265.666666666664|\n",
      "|  29|       mtvhottest| 52114.42857142857|\n",
      "|  30|       mtvhottest| 47525.71428571428|\n",
      "|  13|      harmonizers|46859.666666666664|\n",
      "|  13|     directioners|35707.333333333336|\n",
      "|  19|       teenchoice|20160.285714285714|\n",
      "|  25|    veranomtv2016|18191.285714285714|\n",
      "|  26|    veranomtv2016|17481.285714285714|\n",
      "|  15|aldub9thmonthsary|16192.666666666666|\n",
      "|  28|       mtvhottest|13886.857142857143|\n",
      "|  27|    veranomtv2016|13800.857142857143|\n",
      "|  30|    veranomtv2016|12531.285714285714|\n",
      "|  23|    mtvawardsstar|12066.166666666666|\n",
      "|  23|     ripchristina|           12062.0|\n",
      "|  30|     demsinphilly|10032.285714285714|\n",
      "|  27|    altonsterling| 8601.166666666666|\n",
      "|  29|    veranomtv2016|            8436.0|\n",
      "|  29|         rncincle| 8172.142857142857|\n",
      "+----+-----------------+------------------+\n",
      "only showing top 20 rows\n",
      "\n"
     ]
    }
   ],
   "source": [
    "by_week = day_counts.groupBy(day_counts.week,day_counts.hashtag)\\\n",
    ".agg(functions.avg('count').alias('avg_per_week')).sort('avg_per_week',ascending=False)\n",
    "by_week.show()"
   ]
  },
  {
   "cell_type": "markdown",
   "metadata": {},
   "source": [
    "### Using `Window` functions \n",
    "\n",
    "Window functions are another awesome feature of dataframes. They allow users to accomplish complex tasks using very concise and simple code. \n",
    "\n",
    "Above we computed just the hashtag that had the most occurrences on *any* day. Now lets say we want to know the top tweets for *each* day.  \n",
    "\n",
    "This is a non-trivial thing to compute and requires \"windowing\" our data. I recommend reading this [window functions article](https://databricks.com/blog/2015/07/15/introducing-window-functions-in-spark-sql.html) to get acquainted with the idea. You can think of a window function as a fine-grained and more flexible `groupBy`. \n",
    "\n",
    "There are two things we need to define to use window functions:\n",
    "\n",
    "1. the \"window\" to use, based on which columns (partitioning) and how the rows should be ordered \n",
    "2. the computation to carry out for each windowed group, e.g. a max, an average etc.\n",
    "\n",
    "Lets see how this works by example. We will define a window function, `daily_window` that will partition data based on the `day` column. Within each window, the rows will be ordered by the daily hashtag count that we computed above. Finally, we will use the rank function **over** this window to give us the ranking of top tweets. \n",
    "\n",
    "In the end, this is a fairly complicated operation achieved in just a few lines of code! (can you think of how to do this with an RDD??)"
   ]
  },
  {
   "cell_type": "code",
   "execution_count": 21,
   "metadata": {
    "collapsed": true
   },
   "outputs": [],
   "source": [
    "from pyspark.sql import Window"
   ]
  },
  {
   "cell_type": "markdown",
   "metadata": {},
   "source": [
    "First, we specify the window function and the ordering:"
   ]
  },
  {
   "cell_type": "code",
   "execution_count": 22,
   "metadata": {
    "collapsed": true
   },
   "outputs": [],
   "source": [
    "daily_window = Window.partitionBy('day').orderBy(functions.desc('count'))"
   ]
  },
  {
   "cell_type": "markdown",
   "metadata": {},
   "source": [
    "The above window function says that we should window the data on the `day` column and order it by count. \n",
    "\n",
    "Now we need to define what we want to compute on the windowed data. We will start by just calculating the daily ranking of hashtags, so we can use the helpful built-in `functions.rank()` and sort:"
   ]
  },
  {
   "cell_type": "code",
   "execution_count": 23,
   "metadata": {
    "collapsed": true
   },
   "outputs": [],
   "source": [
    "daily_rank = functions.rank() \\\n",
    "                      .over(daily_window) \\\n",
    "                      .alias('rank')"
   ]
  },
  {
   "cell_type": "markdown",
   "metadata": {},
   "source": [
    "### TODO (3 points / 50)\n",
    "Now compute the top five hashtags for each day in our data:"
   ]
  },
  {
   "cell_type": "code",
   "execution_count": 24,
   "metadata": {},
   "outputs": [
    {
     "name": "stdout",
     "output_type": "stream",
     "text": [
      "+---+------------------+----+------+\n",
      "|day|           hashtag|rank| count|\n",
      "+---+------------------+----+------+\n",
      "| 92|      iheartawards|   1| 51670|\n",
      "| 92|       bestfanarmy|   2| 50905|\n",
      "| 92|       harmonizers|   3| 26776|\n",
      "| 92|           5sosfam|   4| 16737|\n",
      "| 92|      directioners|   5|  6859|\n",
      "| 93|      iheartawards|   1|136597|\n",
      "| 93|       bestfanarmy|   2|134381|\n",
      "| 93|       harmonizers|   3| 52497|\n",
      "| 93|           5sosfam|   4| 46461|\n",
      "| 93|      directioners|   5| 33915|\n",
      "| 94|      iheartawards|   1|247453|\n",
      "| 94|       bestfanarmy|   2|239519|\n",
      "| 94|           5sosfam|   3|102599|\n",
      "| 94|      directioners|   4| 66348|\n",
      "| 94|       harmonizers|   5| 61306|\n",
      "| 95|      wrestlemania|   1|  9692|\n",
      "| 95|      iheartawards|   2|  8325|\n",
      "| 95|dolceamorepampanga|   3|  4581|\n",
      "| 95|         twdfinale|   4|  4333|\n",
      "| 95|       200daysmsg2|   5|  4205|\n",
      "+---+------------------+----+------+\n",
      "only showing top 20 rows\n",
      "\n"
     ]
    }
   ],
   "source": [
    "# using the window and daily_rank defined above \n",
    "with_rank = day_counts.select('hashtag',daily_rank.alias(\"rank\"),\"day\",\"count\")\n",
    "# Selecting only the top five tweet\n",
    "with_rank.select('day','hashtag','rank','count').where(with_rank.rank<=5).orderBy('day','rank').show()"
   ]
  },
  {
   "cell_type": "markdown",
   "metadata": {},
   "source": [
    "## TODO - Compute the top five trending tweets per week (20 points / 50)\n",
    "\n",
    "Use window functions (or other techniques!) to produce lists of top few trending tweets for each week. What's a \"trending\" tweet? Something that seems to be suddenly growing very rapidly in popularity. You should identify \"brexit\" in week 25 and other events like the death of The Artist Formerly Known as Prince, the Met gala, Euro 2016, the terrorist attacks in Nice, France etc. Make it as simple or as complicated as you want! The final listing should be clear and concise and the flow of your analysis should be easy to follow. If you make an implementation that is not immediately obvious, make sure you provide comments either in markdown cells or in comments in the code itself. \n"
   ]
  },
  {
   "cell_type": "code",
   "execution_count": 16,
   "metadata": {},
   "outputs": [
    {
     "name": "stdout",
     "output_type": "stream",
     "text": [
      "+---+------------+----+------+\n",
      "|day|     hashtag|week| count|\n",
      "+---+------------+----+------+\n",
      "| 94|iheartawards|  13|247453|\n",
      "| 94| bestfanarmy|  13|239519|\n",
      "| 93|iheartawards|  13|136597|\n",
      "| 93| bestfanarmy|  13|134381|\n",
      "| 94|     5sosfam|  13|102599|\n",
      "+---+------------+----+------+\n",
      "only showing top 5 rows\n",
      "\n"
     ]
    }
   ],
   "source": [
    "day_counts.show(5)"
   ]
  },
  {
   "cell_type": "markdown",
   "metadata": {},
   "source": [
    "## Plotting the timeseries of hashtag counts and using KMeans clustering\n",
    "\n",
    "### TODO (10 points / 50)\n",
    "\n",
    "The lists we obtained above are nice, but lets actually visualize some data. \n",
    "\n",
    "1. create a matrix that consists of hashtags as rows and daily counts as columns (hint: use `groupBy` and methods of `GroupedData`). \n",
    "2. use the `VectorAssembler` from the ML library to create the feature vector which will consist of daily counts. \n",
    "\n",
    "If you extract any of these vectors you will obtain a numpy array that represents the time series of daily counts - plot this time series for a few interesting hashtags you identified above. hint: the `isin` method of DataFrame columns might be useful. "
   ]
  },
  {
   "cell_type": "code",
   "execution_count": 100,
   "metadata": {
    "collapsed": true,
    "scrolled": true
   },
   "outputs": [],
   "source": [
    "# 1\n",
    "# create the matrix using pivoting\n",
    "# use max to break virtual ties\n",
    "hashtag_ts_df = day_counts.groupby('hashtag').pivot('day').max('count').na.fill(0)"
   ]
  },
  {
   "cell_type": "code",
   "execution_count": 101,
   "metadata": {},
   "outputs": [
    {
     "name": "stdout",
     "output_type": "stream",
     "text": [
      "+------------------+--------------------+\n",
      "|           hashtag|            features|\n",
      "+------------------+--------------------+\n",
      "|              cubs|[33.0,25.0,51.0,9...|\n",
      "|      sonnyganteng|[8.0,1.0,4.0,10.0...|\n",
      "|labourinforbritain|[0.0,1.0,1.0,1.0,...|\n",
      "|         cliqueart|[12.0,11.0,14.0,1...|\n",
      "|               kkr|(119,[0,1,3,4,5,6...|\n",
      "+------------------+--------------------+\n",
      "only showing top 5 rows\n",
      "\n"
     ]
    }
   ],
   "source": [
    "# 2\n",
    "# necessary import\n",
    "from pyspark.ml.feature import VectorAssembler\n",
    "\n",
    "# create the assembler\n",
    "ts_columns = hashtag_ts_df.columns\n",
    "ts_columns.remove('hashtag')\n",
    "vec_assembler = VectorAssembler(inputCols = ts_columns, outputCol = 'features')\n",
    "\n",
    "# transform the features\n",
    "ts_features_df = vec_assembler.transform(hashtag_ts_df).select('hashtag','features')\n",
    "ts_features_df.show(5)"
   ]
  },
  {
   "cell_type": "code",
   "execution_count": 102,
   "metadata": {
    "collapsed": true
   },
   "outputs": [],
   "source": [
    "def plot_ts_features(hashtag):\n",
    "    '''\n",
    "    return time series feature vector for the hashtag\n",
    "    parmas:\n",
    "    hasthag    string\n",
    "    '''\n",
    "    days = [int(i) for i in ts_columns]\n",
    "    counts = ts_features_df.filter(ts_features_df.hashtag==hashtag).collect()[0]['features']\n",
    "    plt.plot(days, counts)\n",
    "    plt.title('Hashtag usage for \\\"{}\\\"'.format(hashtag))\n",
    "    plt.xlabel('Day (in 2016)')\n",
    "    plt.ylabel('Hashtag Count')\n",
    "    plt.show()"
   ]
  },
  {
   "cell_type": "code",
   "execution_count": null,
   "metadata": {
    "collapsed": true
   },
   "outputs": [],
   "source": [
    "def check_if_present(hashtag):\n",
    "    '''\n",
    "    check if hashtag is present in our time series dataframe\n",
    "    params:\n",
    "    hashtag    string\n",
    "    returns:\n",
    "    boolean wether string is present'''\n",
    "    return ts_features_df[ts_features_df.hashtag.isin(hashtag)].count()>0"
   ]
  },
  {
   "cell_type": "code",
   "execution_count": null,
   "metadata": {},
   "outputs": [
    {
     "name": "stdout",
     "output_type": "stream",
     "text": [
      "bitcoin present: True\n"
     ]
    }
   ],
   "source": [
    "print('bitcoin present: {}'.format(check_if_present('veranomtv2016')))\n",
    "plot_ts_features('veranomtv2016')"
   ]
  },
  {
   "cell_type": "code",
   "execution_count": 21,
   "metadata": {},
   "outputs": [
    {
     "name": "stdout",
     "output_type": "stream",
     "text": [
      "brexit present: True\n"
     ]
    },
    {
     "data": {
      "image/png": "[encoded data removed]",
      "text/plain": [
       "<matplotlib.figure.Figure at 0x7f0461863780>"
      ]
     },
     "metadata": {},
     "output_type": "display_data"
    }
   ],
   "source": [
    "# the brexit referendum was on june 23 -> day 174\n",
    "print('brexit present: {}'.format(check_if_present('brexit')))\n",
    "plot_ts_features('brexit')"
   ]
  },
  {
   "cell_type": "code",
   "execution_count": 22,
   "metadata": {},
   "outputs": [
    {
     "name": "stdout",
     "output_type": "stream",
     "text": [
      "orlando present: True\n"
     ]
    },
    {
     "data": {
      "image/png": "[encoded data removed]",
      "text/plain": [
       "<matplotlib.figure.Figure at 0x7f046182a198>"
      ]
     },
     "metadata": {},
     "output_type": "display_data"
    }
   ],
   "source": [
    "# the orlando nightclub shooting was on june 12 -> day 163\n",
    "print('orlando present: {}'.format(check_if_present('orlando')))\n",
    "plot_ts_features('orlando')"
   ]
  },
  {
   "cell_type": "markdown",
   "metadata": {},
   "source": [
    "### TODO: Use KMeans to cluster hashtags based on the daily count timeseries (10 points / 50)\n",
    "\n",
    "Use the DataFrame you created above to cluster the hashtag timeseries. Train the model and calculate the cluster membership for all hashtags. Keep in mind that additional data cleaning or filtering might be necessary to get useful results from the model. Show the cluster that includes \"brexit\" - does it make sense? \n",
    "\n",
    "Again, be creative and see if you can get the clustering to give you meaningful hashtag groupings. Make sure you document your process and code and make your final notebook easy to understand even if the result is not optimal or complete. "
   ]
  }
 ],
 "metadata": {
  "kernelspec": {
   "display_name": "Python 3",
   "language": "python",
   "name": "python3"
  },
  "language_info": {
   "codemirror_mode": {
    "name": "ipython",
    "version": 3
   },
   "file_extension": ".py",
   "mimetype": "text/x-python",
   "name": "python",
   "nbconvert_exporter": "python",
   "pygments_lexer": "ipython3",
   "version": "3.6.5"
  }
 },
 "nbformat": 4,
 "nbformat_minor": 2
}
